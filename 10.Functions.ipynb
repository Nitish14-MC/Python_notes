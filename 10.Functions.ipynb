{
 "cells": [
  {
   "cell_type": "markdown",
   "id": "a9a5da5e",
   "metadata": {},
   "source": [
    "# Functions:\n",
    "\n",
    "* A function is a block of code which only runs when it is called."
   ]
  },
  {
   "cell_type": "markdown",
   "id": "e145d9d0",
   "metadata": {},
   "source": [
    "## Creating a Function::\n",
    "\n",
    "* In Python a function is defined using the def keyword:"
   ]
  },
  {
   "cell_type": "code",
   "execution_count": 1,
   "id": "8d62fcc2",
   "metadata": {},
   "outputs": [],
   "source": [
    "def my_function():\n",
    "    print(\"Hello from a function\")"
   ]
  },
  {
   "cell_type": "code",
   "execution_count": 2,
   "id": "ee58c0ab",
   "metadata": {},
   "outputs": [
    {
     "name": "stdout",
     "output_type": "stream",
     "text": [
      "Hello from a function\n"
     ]
    }
   ],
   "source": [
    "my_function()"
   ]
  },
  {
   "cell_type": "markdown",
   "id": "6a55f866",
   "metadata": {},
   "source": [
    "#  Write a program to check whether 19,18,22 are even or odd??.Without function"
   ]
  },
  {
   "cell_type": "code",
   "execution_count": null,
   "id": "6959e6a5",
   "metadata": {},
   "outputs": [],
   "source": [
    "number1=19\n",
    "number2=18\n",
    "number3=22\n",
    "\n",
    "if (number1%2==0):\n",
    "    print('{} is even'.format(number1))\n",
    "else:\n",
    "    print('{} is odd'.format(number1))\n",
    "    \n",
    "if (number2%2==0):\n",
    "    print('{} is even'.format(number2))\n",
    "else:\n",
    "    print('{} is odd'.format(number2))\n",
    "    \n",
    "if (number3%2==0):\n",
    "    print('{} is even'.format(number3))\n",
    "else:\n",
    "    print('{} is odd'.format(number3))"
   ]
  },
  {
   "cell_type": "code",
   "execution_count": 5,
   "id": "aa94b81b",
   "metadata": {},
   "outputs": [
    {
     "name": "stdout",
     "output_type": "stream",
     "text": [
      "Enter first number:125\n",
      "Enter Second number:256\n",
      "Enter third number:523\n",
      "125 is odd\n",
      "256 is even\n",
      "523 is odd\n"
     ]
    }
   ],
   "source": [
    "number1=int(input(\"Enter first number:\"))\n",
    "number2=int(input(\"Enter Second number:\"))\n",
    "number3=int(input(\"Enter third number:\"))\n",
    "\n",
    "if (number1%2==0):\n",
    "    print(f'{number1} is even')\n",
    "else:\n",
    "    print(f'{number1} is odd')\n",
    "    \n",
    "if (number2%2==0):\n",
    "    print(f'{number2} is even')\n",
    "else:\n",
    "    print(f'{number2} is odd')\n",
    "    \n",
    "if (number3%2==0):\n",
    "    print(f'{number3} is even')\n",
    "else:\n",
    "    print(f'{number3} is odd')"
   ]
  },
  {
   "cell_type": "markdown",
   "id": "bc30856b",
   "metadata": {},
   "source": [
    "## In the above program there is a repeatation of logic"
   ]
  },
  {
   "cell_type": "code",
   "execution_count": 7,
   "id": "b1d090e2",
   "metadata": {},
   "outputs": [],
   "source": [
    "def EvenOrOdd(number):\n",
    "    if(number%2==0):\n",
    "        print(f'{number} is even')\n",
    "    else:\n",
    "        print(f'{number} is odd')"
   ]
  },
  {
   "cell_type": "code",
   "execution_count": 8,
   "id": "f25f2860",
   "metadata": {},
   "outputs": [
    {
     "name": "stdout",
     "output_type": "stream",
     "text": [
      "125 is odd\n",
      "256 is even\n",
      "523 is odd\n"
     ]
    }
   ],
   "source": [
    "EvenOrOdd(125)\n",
    "EvenOrOdd(256)\n",
    "EvenOrOdd(523)"
   ]
  },
  {
   "cell_type": "markdown",
   "id": "d7a82245",
   "metadata": {},
   "source": [
    "### Functions helps to avoid repetition of code"
   ]
  },
  {
   "cell_type": "code",
   "execution_count": null,
   "id": "d4203cc4",
   "metadata": {},
   "outputs": [],
   "source": []
  },
  {
   "cell_type": "markdown",
   "id": "d5899ea7",
   "metadata": {},
   "source": [
    "## Docstrings::\n",
    "\n",
    "* Means document strings\n",
    "\n",
    "* used to describe the functionality of the function,it is optional but a good practice to use"
   ]
  },
  {
   "cell_type": "code",
   "execution_count": 9,
   "id": "b3fde9a3",
   "metadata": {},
   "outputs": [
    {
     "ename": "NameError",
     "evalue": "name 'functionName' is not defined",
     "output_type": "error",
     "traceback": [
      "\u001b[1;31m---------------------------------------------------------------------------\u001b[0m",
      "\u001b[1;31mNameError\u001b[0m                                 Traceback (most recent call last)",
      "Input \u001b[1;32mIn [9]\u001b[0m, in \u001b[0;36m<cell line: 2>\u001b[1;34m()\u001b[0m\n\u001b[0;32m      1\u001b[0m \u001b[38;5;66;03m# calling the docstrings\u001b[39;00m\n\u001b[1;32m----> 2\u001b[0m \u001b[43mfunctionName\u001b[49m\u001b[38;5;241m.\u001b[39m\u001b[38;5;18m__doc__\u001b[39m\n",
      "\u001b[1;31mNameError\u001b[0m: name 'functionName' is not defined"
     ]
    }
   ],
   "source": [
    "# calling the docstrings\n",
    "\n",
    "\n",
    "# SYNTAX FOR KNOWING THE DOCSTRINGS\n",
    "\n",
    "#functionName.__doc__"
   ]
  },
  {
   "cell_type": "code",
   "execution_count": 10,
   "id": "c5c52446",
   "metadata": {},
   "outputs": [
    {
     "data": {
      "text/plain": [
       "'Return the number of items in a container.'"
      ]
     },
     "execution_count": 10,
     "metadata": {},
     "output_type": "execute_result"
    }
   ],
   "source": [
    "len.__doc__"
   ]
  },
  {
   "cell_type": "code",
   "execution_count": 11,
   "id": "e6ad4e8a",
   "metadata": {},
   "outputs": [
    {
     "name": "stdout",
     "output_type": "stream",
     "text": [
      "Return the number of items in a container.\n"
     ]
    }
   ],
   "source": [
    "print(len.__doc__)"
   ]
  },
  {
   "cell_type": "code",
   "execution_count": 12,
   "id": "b5b0fd05",
   "metadata": {},
   "outputs": [
    {
     "name": "stdout",
     "output_type": "stream",
     "text": [
      "print(value, ..., sep=' ', end='\\n', file=sys.stdout, flush=False)\n",
      "\n",
      "Prints the values to a stream, or to sys.stdout by default.\n",
      "Optional keyword arguments:\n",
      "file:  a file-like object (stream); defaults to the current sys.stdout.\n",
      "sep:   string inserted between values, default a space.\n",
      "end:   string appended after the last value, default a newline.\n",
      "flush: whether to forcibly flush the stream.\n"
     ]
    }
   ],
   "source": [
    "print(print.__doc__)"
   ]
  },
  {
   "cell_type": "code",
   "execution_count": null,
   "id": "5cf698d9",
   "metadata": {},
   "outputs": [],
   "source": []
  },
  {
   "cell_type": "markdown",
   "id": "04a310a8",
   "metadata": {},
   "source": [
    "# For customised functions docstrings can be used like this !!"
   ]
  },
  {
   "cell_type": "code",
   "execution_count": 13,
   "id": "90da4549",
   "metadata": {},
   "outputs": [],
   "source": [
    "def Addition():\n",
    "    \"This is used to perform addition operation\"\n",
    "    pass"
   ]
  },
  {
   "cell_type": "code",
   "execution_count": 14,
   "id": "19194ff9",
   "metadata": {},
   "outputs": [
    {
     "data": {
      "text/plain": [
       "'This is used to perform addition operation'"
      ]
     },
     "execution_count": 14,
     "metadata": {},
     "output_type": "execute_result"
    }
   ],
   "source": [
    "Addition.__doc__"
   ]
  },
  {
   "cell_type": "code",
   "execution_count": 15,
   "id": "0f725f00",
   "metadata": {},
   "outputs": [],
   "source": [
    "def EvenOrOdd(number):\n",
    "    \"This function is used to check whether a numbre is even or odd\"\n",
    "    if(number%2==0):\n",
    "        print('{} is even'.format(number))\n",
    "    else:\n",
    "        print('{} is odd'.format(number))"
   ]
  },
  {
   "cell_type": "code",
   "execution_count": 16,
   "id": "4f903934",
   "metadata": {},
   "outputs": [
    {
     "data": {
      "text/plain": [
       "'This function is used to check whether a numbre is even or odd'"
      ]
     },
     "execution_count": 16,
     "metadata": {},
     "output_type": "execute_result"
    }
   ],
   "source": [
    "EvenOrOdd.__doc__"
   ]
  },
  {
   "cell_type": "code",
   "execution_count": 17,
   "id": "5d469de8",
   "metadata": {},
   "outputs": [
    {
     "name": "stdout",
     "output_type": "stream",
     "text": [
      "type(object) -> the object's type\n",
      "type(name, bases, dict, **kwds) -> a new type\n"
     ]
    }
   ],
   "source": [
    "# Check the docstring of type keyword\n",
    "\n",
    "print(type.__doc__)"
   ]
  },
  {
   "cell_type": "code",
   "execution_count": 18,
   "id": "23dd35b8",
   "metadata": {},
   "outputs": [
    {
     "data": {
      "text/plain": [
       "\"type(object) -> the object's type\\ntype(name, bases, dict, **kwds) -> a new type\""
      ]
     },
     "execution_count": 18,
     "metadata": {},
     "output_type": "execute_result"
    }
   ],
   "source": [
    "type.__doc__"
   ]
  },
  {
   "cell_type": "markdown",
   "id": "7c7aec6b",
   "metadata": {},
   "source": [
    "## Returning from a fucntion::\n",
    "\n",
    "* Used to return data and exit from the function"
   ]
  },
  {
   "cell_type": "code",
   "execution_count": 28,
   "id": "c623f1a7",
   "metadata": {},
   "outputs": [],
   "source": [
    "def CubeOfNumber(number):\n",
    "    ''' Used to calculate cube of a given number '''\n",
    "    number=number*number*number\n",
    "    return number"
   ]
  },
  {
   "cell_type": "code",
   "execution_count": 29,
   "id": "0fbff755",
   "metadata": {},
   "outputs": [
    {
     "data": {
      "text/plain": [
       "125"
      ]
     },
     "execution_count": 29,
     "metadata": {},
     "output_type": "execute_result"
    }
   ],
   "source": [
    "CubeOfNumber(5)"
   ]
  },
  {
   "cell_type": "code",
   "execution_count": 30,
   "id": "9608892e",
   "metadata": {},
   "outputs": [
    {
     "name": "stdout",
     "output_type": "stream",
     "text": [
      " Used to calculate cube of a given number \n"
     ]
    }
   ],
   "source": [
    "print(CubeOfNumber.__doc__)"
   ]
  },
  {
   "cell_type": "code",
   "execution_count": 31,
   "id": "bf1935f2",
   "metadata": {},
   "outputs": [],
   "source": [
    "# What will happen if there is no variable after return keyword::\n",
    "def CubeOfNumber(number):\n",
    "    number=number*number*number\n",
    "    return "
   ]
  },
  {
   "cell_type": "code",
   "execution_count": 33,
   "id": "add5e224",
   "metadata": {},
   "outputs": [],
   "source": [
    "CubeOfNumber(5)"
   ]
  },
  {
   "cell_type": "code",
   "execution_count": 34,
   "id": "cd9c8a2d",
   "metadata": {},
   "outputs": [
    {
     "name": "stdout",
     "output_type": "stream",
     "text": [
      "None\n"
     ]
    }
   ],
   "source": [
    "print(CubeOfNumber(5))"
   ]
  },
  {
   "cell_type": "code",
   "execution_count": 35,
   "id": "84400ab4",
   "metadata": {},
   "outputs": [
    {
     "name": "stdout",
     "output_type": "stream",
     "text": [
      "20\n",
      "10\n"
     ]
    }
   ],
   "source": [
    "# What is the output of this program\n",
    "\n",
    "def luckyNumber(number):\n",
    "    number=20\n",
    "    return number\n",
    "\n",
    "number=10\n",
    "print(luckyNumber(number))\n",
    "print(number)"
   ]
  },
  {
   "cell_type": "markdown",
   "id": "8ecc1a77",
   "metadata": {},
   "source": [
    "# Arguments:\n",
    "\n",
    "* Arguments are specified after the function name, inside the parentheses. You can add as many arguments as you want, just separate them with a comma."
   ]
  },
  {
   "cell_type": "markdown",
   "id": "e953934a",
   "metadata": {},
   "source": [
    "## Default arguments:\n",
    "\n",
    "* Default arguments refer to those arguments which are being utilized by a function when no other value is passed to that function"
   ]
  },
  {
   "cell_type": "code",
   "execution_count": 36,
   "id": "fea3288e",
   "metadata": {},
   "outputs": [],
   "source": [
    "def power(x=70):\n",
    "    print(x)"
   ]
  },
  {
   "cell_type": "code",
   "execution_count": 37,
   "id": "07e895e9",
   "metadata": {},
   "outputs": [
    {
     "name": "stdout",
     "output_type": "stream",
     "text": [
      "70\n"
     ]
    }
   ],
   "source": [
    "power()"
   ]
  },
  {
   "cell_type": "code",
   "execution_count": 38,
   "id": "be328ec2",
   "metadata": {},
   "outputs": [
    {
     "name": "stdout",
     "output_type": "stream",
     "text": [
      "80\n"
     ]
    }
   ],
   "source": [
    "power(x=80)"
   ]
  },
  {
   "cell_type": "code",
   "execution_count": 40,
   "id": "9a804a32",
   "metadata": {},
   "outputs": [
    {
     "name": "stdout",
     "output_type": "stream",
     "text": [
      "70\n"
     ]
    }
   ],
   "source": [
    "power()"
   ]
  },
  {
   "cell_type": "markdown",
   "id": "1da4dba4",
   "metadata": {},
   "source": [
    "## Keyword arguments::\n",
    "\n",
    "* You can also send arguments with the key = value syntax.\n",
    "\n",
    "* This way the order of the arguments does not matter."
   ]
  },
  {
   "cell_type": "code",
   "execution_count": 41,
   "id": "3a5477b0",
   "metadata": {},
   "outputs": [],
   "source": [
    "def bottleDetails(name,color,capacity,height):\n",
    "    print(f\"{name},{color},{capacity},{height}\") # This is one way of writing format specifiers"
   ]
  },
  {
   "cell_type": "code",
   "execution_count": 42,
   "id": "d50189b3",
   "metadata": {},
   "outputs": [
    {
     "name": "stdout",
     "output_type": "stream",
     "text": [
      "Kinley,red,1,5.5\n"
     ]
    }
   ],
   "source": [
    "bottleDetails('Kinley','red',1,5.5)"
   ]
  },
  {
   "cell_type": "code",
   "execution_count": 43,
   "id": "59c4d7e0",
   "metadata": {},
   "outputs": [],
   "source": [
    "def bottleDetails(name,color,capacity,height):\n",
    "    print(\"{},{},{},{}\".format(name,color,capacity,height)) # This is another way of writing format specifiers"
   ]
  },
  {
   "cell_type": "code",
   "execution_count": 44,
   "id": "611b1d8f",
   "metadata": {},
   "outputs": [
    {
     "name": "stdout",
     "output_type": "stream",
     "text": [
      "Kinley,red,1,5.5\n"
     ]
    }
   ],
   "source": [
    "bottleDetails('Kinley','red',1,5.5)"
   ]
  },
  {
   "cell_type": "code",
   "execution_count": 45,
   "id": "b89f8230",
   "metadata": {},
   "outputs": [],
   "source": [
    "def bottleDetails(name,color,capacity,height):\n",
    "    print(\"My name is {} and my color is {},my capacity is {},my height is {}\".format(name,color,capacity,height)) # This is another way of writing format specifiers"
   ]
  },
  {
   "cell_type": "code",
   "execution_count": 46,
   "id": "f076ef66",
   "metadata": {},
   "outputs": [
    {
     "name": "stdout",
     "output_type": "stream",
     "text": [
      "My name is Kinley and my color is red,my capacity is 1,my height is 5.5\n"
     ]
    }
   ],
   "source": [
    "bottleDetails('Kinley','red',1,5.5)"
   ]
  },
  {
   "cell_type": "code",
   "execution_count": 47,
   "id": "b7f15e24",
   "metadata": {},
   "outputs": [],
   "source": [
    "# The above sequence is acceptable ,but what if there is any change in the passing order\n",
    "def bottleDetails(name,color,capacity,height):\n",
    "    print(\"My name is {} and my color is {},my capacity is {},my height is {}\".format(name,color,capacity,height)) # This is another way of writing format specifiers"
   ]
  },
  {
   "cell_type": "code",
   "execution_count": 48,
   "id": "5c90c059",
   "metadata": {},
   "outputs": [
    {
     "name": "stdout",
     "output_type": "stream",
     "text": [
      "My name is red and my color is Kinley,my capacity is 1,my height is 5.5\n"
     ]
    }
   ],
   "source": [
    "bottleDetails('red','Kinley',1,5.5) "
   ]
  },
  {
   "cell_type": "markdown",
   "id": "d654b3b8",
   "metadata": {},
   "source": [
    "### The above output is completely wrong....to overcome this keyword arguments are used"
   ]
  },
  {
   "cell_type": "code",
   "execution_count": 49,
   "id": "d56bd205",
   "metadata": {},
   "outputs": [],
   "source": [
    "def bottleDetails(name,color,capacity,height):\n",
    "    print(\"My name is {} and my color is {},my capacity is {},my height is {}\".format(name,color,capacity,height))"
   ]
  },
  {
   "cell_type": "code",
   "execution_count": 50,
   "id": "a82a2b8c",
   "metadata": {},
   "outputs": [
    {
     "name": "stdout",
     "output_type": "stream",
     "text": [
      "My name is Kinley and my color is red,my capacity is 1,my height is 5.5\n"
     ]
    }
   ],
   "source": [
    "bottleDetails(color='red',name='Kinley',capacity=1,height=5.5) "
   ]
  },
  {
   "cell_type": "markdown",
   "id": "eab38f9f",
   "metadata": {},
   "source": [
    "# VARIABLE NUMBER OF ARGUMENTS::If the arguments are variying with respect to time....Then it is called Variable argument\n",
    "\n",
    "* They are two types:: 1.*args( Arbitrary Arguments) and  2. ***kwargs (Arbitrary Keyword Arguments)"
   ]
  },
  {
   "cell_type": "markdown",
   "id": "62ac4cbe",
   "metadata": {},
   "source": [
    "## Arbitrary Arguments, *args::\n",
    "\n",
    "* If you do not know how many arguments that will be passed into your function, add a * before the parameter name in the function definition.\n",
    "\n",
    "* This way the function will receive a tuple of arguments, and can access the items accordingly:"
   ]
  },
  {
   "cell_type": "code",
   "execution_count": 51,
   "id": "2a048e7e",
   "metadata": {},
   "outputs": [],
   "source": [
    "def printAll(*args):\n",
    "    print(args)"
   ]
  },
  {
   "cell_type": "code",
   "execution_count": 52,
   "id": "ef340cf8",
   "metadata": {},
   "outputs": [
    {
     "name": "stdout",
     "output_type": "stream",
     "text": [
      "(1, 2, 3, 4, 5, 6)\n"
     ]
    }
   ],
   "source": [
    "printAll(1,2,3,4,5,6)"
   ]
  },
  {
   "cell_type": "code",
   "execution_count": 53,
   "id": "6781a116",
   "metadata": {},
   "outputs": [],
   "source": [
    "def printAll(*args):\n",
    "    for i in args:\n",
    "        print(i)"
   ]
  },
  {
   "cell_type": "code",
   "execution_count": 54,
   "id": "e955c96a",
   "metadata": {},
   "outputs": [
    {
     "name": "stdout",
     "output_type": "stream",
     "text": [
      "1\n",
      "2\n",
      "3\n",
      "4\n",
      "5\n",
      "6\n"
     ]
    }
   ],
   "source": [
    "printAll(1,2,3,4,5,6)"
   ]
  },
  {
   "cell_type": "markdown",
   "id": "6b62603b",
   "metadata": {},
   "source": [
    "#### What is the output of this program::"
   ]
  },
  {
   "cell_type": "code",
   "execution_count": 55,
   "id": "7e2de12d",
   "metadata": {},
   "outputs": [
    {
     "name": "stdout",
     "output_type": "stream",
     "text": [
      "24\n"
     ]
    }
   ],
   "source": [
    "def multiply(*args):\n",
    "    mult=1\n",
    "    for number in args:\n",
    "        mult=mult*number\n",
    "    return mult\n",
    "\n",
    "result=multiply(1,2,3,4)\n",
    "print(result)"
   ]
  },
  {
   "cell_type": "markdown",
   "id": "21cb4ded",
   "metadata": {},
   "source": [
    "#### What is the output of this program::"
   ]
  },
  {
   "cell_type": "code",
   "execution_count": 56,
   "id": "d9f96d9d",
   "metadata": {},
   "outputs": [
    {
     "name": "stdout",
     "output_type": "stream",
     "text": [
      "48\n"
     ]
    }
   ],
   "source": [
    "def multiply(start,*args):\n",
    "    mult=start\n",
    "    for number in args:\n",
    "        mult=mult*number\n",
    "    return mult\n",
    "\n",
    "result=multiply(2,1,2,3,4)\n",
    "print(result)"
   ]
  },
  {
   "cell_type": "markdown",
   "id": "b052525b",
   "metadata": {},
   "source": [
    "### Arbitrary Keyword Arguments, **kwargs::\n",
    "\n",
    "* If you do not know how many keyword arguments that will be passed into your function, add two asterisk: ** before the parameter name in the function definition.\n",
    "\n",
    "* This way the function will receive a dictionary of arguments, and can access the items accordingly:"
   ]
  },
  {
   "cell_type": "code",
   "execution_count": 57,
   "id": "c8b2b6fc",
   "metadata": {},
   "outputs": [
    {
     "name": "stdout",
     "output_type": "stream",
     "text": [
      "His last name is Refsnes\n"
     ]
    }
   ],
   "source": [
    "def my_function(**kid):\n",
    "  print(\"His last name is \" + kid[\"lname\"])\n",
    "\n",
    "my_function(fname = \"Tobias\", lname = \"Refsnes\")"
   ]
  },
  {
   "cell_type": "markdown",
   "id": "cf5a862f",
   "metadata": {},
   "source": [
    "# Lambda::\n",
    "\n",
    "* A lambda function is a small anonymous function.\n",
    "\n",
    "* A lambda function can take any number of arguments, but can only have one expression."
   ]
  },
  {
   "cell_type": "code",
   "execution_count": 58,
   "id": "689b6a96",
   "metadata": {},
   "outputs": [],
   "source": [
    "# Syntax===>  lambda arguments : expression"
   ]
  },
  {
   "cell_type": "code",
   "execution_count": 59,
   "id": "6acd8a95",
   "metadata": {},
   "outputs": [
    {
     "name": "stdout",
     "output_type": "stream",
     "text": [
      "8\n"
     ]
    }
   ],
   "source": [
    "# Normal function::\n",
    "def cube(num):\n",
    "    return num*num*num\n",
    "print(cube(2))"
   ]
  },
  {
   "cell_type": "code",
   "execution_count": 60,
   "id": "0370a384",
   "metadata": {},
   "outputs": [
    {
     "data": {
      "text/plain": [
       "<function __main__.<lambda>(num)>"
      ]
     },
     "execution_count": 60,
     "metadata": {},
     "output_type": "execute_result"
    }
   ],
   "source": [
    "lambda num:num*num*num"
   ]
  },
  {
   "cell_type": "code",
   "execution_count": 61,
   "id": "c8e4fd4a",
   "metadata": {},
   "outputs": [
    {
     "ename": "NameError",
     "evalue": "name 'num' is not defined",
     "output_type": "error",
     "traceback": [
      "\u001b[1;31m---------------------------------------------------------------------------\u001b[0m",
      "\u001b[1;31mNameError\u001b[0m                                 Traceback (most recent call last)",
      "Input \u001b[1;32mIn [61]\u001b[0m, in \u001b[0;36m<cell line: 1>\u001b[1;34m()\u001b[0m\n\u001b[1;32m----> 1\u001b[0m \u001b[43mnum\u001b[49m(\u001b[38;5;241m3\u001b[39m)\n",
      "\u001b[1;31mNameError\u001b[0m: name 'num' is not defined"
     ]
    }
   ],
   "source": [
    "num(3) # This is a wrong way to call"
   ]
  },
  {
   "cell_type": "markdown",
   "id": "c0db53bf",
   "metadata": {},
   "source": [
    "## Calling lambda function::"
   ]
  },
  {
   "cell_type": "code",
   "execution_count": 62,
   "id": "3a907234",
   "metadata": {},
   "outputs": [
    {
     "name": "stdout",
     "output_type": "stream",
     "text": [
      "27\n"
     ]
    }
   ],
   "source": [
    "# This is one way of calling the lambda function\n",
    "result=(lambda num:num*num*num)(3)\n",
    "print(result)"
   ]
  },
  {
   "cell_type": "code",
   "execution_count": 63,
   "id": "d200b85a",
   "metadata": {},
   "outputs": [
    {
     "name": "stdout",
     "output_type": "stream",
     "text": [
      "27\n"
     ]
    }
   ],
   "source": [
    "cube=lambda num:num*num*num\n",
    "print(cube(3))"
   ]
  },
  {
   "cell_type": "code",
   "execution_count": null,
   "id": "85fa74ec",
   "metadata": {},
   "outputs": [],
   "source": []
  }
 ],
 "metadata": {
  "kernelspec": {
   "display_name": "Python 3 (ipykernel)",
   "language": "python",
   "name": "python3"
  },
  "language_info": {
   "codemirror_mode": {
    "name": "ipython",
    "version": 3
   },
   "file_extension": ".py",
   "mimetype": "text/x-python",
   "name": "python",
   "nbconvert_exporter": "python",
   "pygments_lexer": "ipython3",
   "version": "3.9.12"
  }
 },
 "nbformat": 4,
 "nbformat_minor": 5
}
