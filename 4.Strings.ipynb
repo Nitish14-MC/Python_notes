{
 "cells": [
  {
   "cell_type": "markdown",
   "id": "efb3a775",
   "metadata": {},
   "source": [
    "# Strings:\n",
    "* Strings in python are surrounded by either single quotation marks, or double quotation marks."
   ]
  },
  {
   "cell_type": "markdown",
   "id": "74ff22e8",
   "metadata": {},
   "source": [
    "### Assign String to a Variable:"
   ]
  },
  {
   "cell_type": "code",
   "execution_count": 1,
   "id": "a36cac07",
   "metadata": {},
   "outputs": [
    {
     "name": "stdout",
     "output_type": "stream",
     "text": [
      "Hello\n"
     ]
    }
   ],
   "source": [
    "a = \"Hello\"\n",
    "print(a)"
   ]
  },
  {
   "cell_type": "markdown",
   "id": "83eab9d4",
   "metadata": {},
   "source": [
    "### Multiline Strings:"
   ]
  },
  {
   "cell_type": "code",
   "execution_count": 2,
   "id": "ef73e1e6",
   "metadata": {},
   "outputs": [
    {
     "name": "stdout",
     "output_type": "stream",
     "text": [
      "Lorem ipsum dolor sit amet,\n",
      "consectetur adipiscing elit,\n",
      "sed do eiusmod tempor incididunt\n",
      "ut labore et dolore magna aliqua.\n"
     ]
    }
   ],
   "source": [
    "a = \"\"\"Lorem ipsum dolor sit amet,\n",
    "consectetur adipiscing elit,\n",
    "sed do eiusmod tempor incididunt\n",
    "ut labore et dolore magna aliqua.\"\"\"\n",
    "print(a)"
   ]
  },
  {
   "cell_type": "code",
   "execution_count": 3,
   "id": "31c365cd",
   "metadata": {},
   "outputs": [
    {
     "name": "stdout",
     "output_type": "stream",
     "text": [
      "Lorem ipsum dolor sit amet,\n",
      "consectetur adipiscing elit,\n",
      "sed do eiusmod tempor incididunt\n",
      "ut labore et dolore magna aliqua.\n"
     ]
    }
   ],
   "source": [
    "a = '''Lorem ipsum dolor sit amet,\n",
    "consectetur adipiscing elit,\n",
    "sed do eiusmod tempor incididunt\n",
    "ut labore et dolore magna aliqua.'''\n",
    "print(a)"
   ]
  },
  {
   "cell_type": "markdown",
   "id": "86700bc0",
   "metadata": {},
   "source": [
    "### Strings are Arrays:"
   ]
  },
  {
   "cell_type": "code",
   "execution_count": 4,
   "id": "6b1bfcf5",
   "metadata": {},
   "outputs": [
    {
     "name": "stdout",
     "output_type": "stream",
     "text": [
      "e\n"
     ]
    }
   ],
   "source": [
    "a = \"Hello, World!\"\n",
    "print(a[1])"
   ]
  },
  {
   "cell_type": "markdown",
   "id": "f098f080",
   "metadata": {},
   "source": [
    "### Looping Through a String:"
   ]
  },
  {
   "cell_type": "code",
   "execution_count": 5,
   "id": "7ca515f6",
   "metadata": {},
   "outputs": [
    {
     "name": "stdout",
     "output_type": "stream",
     "text": [
      "b\n",
      "a\n",
      "n\n",
      "a\n",
      "n\n",
      "a\n"
     ]
    }
   ],
   "source": [
    "for x in \"banana\":\n",
    "  print(x)"
   ]
  },
  {
   "cell_type": "markdown",
   "id": "76702e1f",
   "metadata": {},
   "source": [
    "### String Length:"
   ]
  },
  {
   "cell_type": "code",
   "execution_count": 6,
   "id": "aeba6ffb",
   "metadata": {},
   "outputs": [
    {
     "name": "stdout",
     "output_type": "stream",
     "text": [
      "13\n"
     ]
    }
   ],
   "source": [
    "a = \"Hello, World!\"\n",
    "print(len(a))"
   ]
  },
  {
   "cell_type": "markdown",
   "id": "4909d3de",
   "metadata": {},
   "source": [
    "### Check String:\n",
    "\n",
    "* To check if a certain phrase or character is present in a string, we can use the keyword in."
   ]
  },
  {
   "cell_type": "code",
   "execution_count": 7,
   "id": "455018e6",
   "metadata": {},
   "outputs": [
    {
     "name": "stdout",
     "output_type": "stream",
     "text": [
      "True\n"
     ]
    }
   ],
   "source": [
    "txt = \"The best things in life are free!\"\n",
    "print(\"free\" in txt)"
   ]
  },
  {
   "cell_type": "code",
   "execution_count": null,
   "id": "269d2ad6",
   "metadata": {},
   "outputs": [],
   "source": []
  },
  {
   "cell_type": "markdown",
   "id": "a8ca03d5",
   "metadata": {},
   "source": [
    "# Slicing Strings::\n",
    "\n",
    "* Specify the start index and the end index, separated by a colon, to return a part of the string."
   ]
  },
  {
   "cell_type": "code",
   "execution_count": 8,
   "id": "76cac3d9",
   "metadata": {},
   "outputs": [
    {
     "name": "stdout",
     "output_type": "stream",
     "text": [
      "llo\n"
     ]
    }
   ],
   "source": [
    "b = \"Hello, World!\"\n",
    "print(b[2:5])"
   ]
  },
  {
   "cell_type": "markdown",
   "id": "6f1bf0f7",
   "metadata": {},
   "source": [
    "### Slice From the Start:"
   ]
  },
  {
   "cell_type": "code",
   "execution_count": 9,
   "id": "86428c67",
   "metadata": {},
   "outputs": [
    {
     "name": "stdout",
     "output_type": "stream",
     "text": [
      "Hello\n"
     ]
    }
   ],
   "source": [
    "b = \"Hello, World!\"\n",
    "print(b[:5])"
   ]
  },
  {
   "cell_type": "markdown",
   "id": "65f89928",
   "metadata": {},
   "source": [
    "### Slice To the End:"
   ]
  },
  {
   "cell_type": "code",
   "execution_count": 10,
   "id": "ca7318c4",
   "metadata": {},
   "outputs": [
    {
     "name": "stdout",
     "output_type": "stream",
     "text": [
      "llo, World!\n"
     ]
    }
   ],
   "source": [
    "b = \"Hello, World!\"\n",
    "print(b[2:])"
   ]
  },
  {
   "cell_type": "markdown",
   "id": "09dbf3b5",
   "metadata": {},
   "source": [
    "### Negative Indexing:"
   ]
  },
  {
   "cell_type": "code",
   "execution_count": 11,
   "id": "7ec22a96",
   "metadata": {},
   "outputs": [
    {
     "name": "stdout",
     "output_type": "stream",
     "text": [
      "orl\n"
     ]
    }
   ],
   "source": [
    "b = \"Hello, World!\"\n",
    "print(b[-5:-2])"
   ]
  },
  {
   "cell_type": "code",
   "execution_count": null,
   "id": "eb001229",
   "metadata": {},
   "outputs": [],
   "source": []
  },
  {
   "cell_type": "markdown",
   "id": "6a616f35",
   "metadata": {},
   "source": [
    "# Modify Strings:"
   ]
  },
  {
   "cell_type": "code",
   "execution_count": 12,
   "id": "3ea15890",
   "metadata": {},
   "outputs": [
    {
     "name": "stdout",
     "output_type": "stream",
     "text": [
      "HELLO, WORLD!\n"
     ]
    }
   ],
   "source": [
    "# The upper() method returns the string in upper case\n",
    "a = \"Hello, World!\"\n",
    "print(a.upper())"
   ]
  },
  {
   "cell_type": "code",
   "execution_count": 13,
   "id": "3d230c91",
   "metadata": {},
   "outputs": [
    {
     "name": "stdout",
     "output_type": "stream",
     "text": [
      "hello, world!\n"
     ]
    }
   ],
   "source": [
    "# The lower() method returns the string in lower case\n",
    "a = \"Hello, World!\"\n",
    "print(a.lower())"
   ]
  },
  {
   "cell_type": "markdown",
   "id": "733dcabb",
   "metadata": {},
   "source": [
    "### Remove Whitespace:"
   ]
  },
  {
   "cell_type": "code",
   "execution_count": 14,
   "id": "5ad8d841",
   "metadata": {},
   "outputs": [
    {
     "name": "stdout",
     "output_type": "stream",
     "text": [
      "Hello, World!\n"
     ]
    }
   ],
   "source": [
    "# The strip() method removes any whitespace from the beginning or the end\n",
    "a = \" Hello, World! \"\n",
    "print(a.strip())"
   ]
  },
  {
   "cell_type": "code",
   "execution_count": 16,
   "id": "a74531d0",
   "metadata": {},
   "outputs": [
    {
     "name": "stdout",
     "output_type": "stream",
     "text": [
      "Hello, World!\n"
     ]
    }
   ],
   "source": [
    "a = \"\\nHello, World!\\n\"\n",
    "print(a.strip())"
   ]
  },
  {
   "cell_type": "code",
   "execution_count": 19,
   "id": "1b6d23ed",
   "metadata": {},
   "outputs": [
    {
     "name": "stdout",
     "output_type": "stream",
     "text": [
      "Nitish\n",
      "Satish\n",
      "Tom\n"
     ]
    }
   ],
   "source": [
    "a=['\\nNitish','\\nSatish','\\nTom']\n",
    "for i in a:\n",
    "    print(i.strip())"
   ]
  },
  {
   "cell_type": "markdown",
   "id": "b31fc53f",
   "metadata": {},
   "source": [
    "# Replace String:\n",
    "The replace() method replaces a string with another string"
   ]
  },
  {
   "cell_type": "code",
   "execution_count": 20,
   "id": "90d9ca6b",
   "metadata": {},
   "outputs": [
    {
     "name": "stdout",
     "output_type": "stream",
     "text": [
      "Jello, World!\n"
     ]
    }
   ],
   "source": [
    "a = \"Hello, World!\"\n",
    "print(a.replace(\"H\", \"J\"))"
   ]
  },
  {
   "cell_type": "markdown",
   "id": "e45896fe",
   "metadata": {},
   "source": [
    "# Split String:\n",
    "The split() method returns a list where the text between the specified separator becomes the list items."
   ]
  },
  {
   "cell_type": "code",
   "execution_count": 21,
   "id": "562fddbd",
   "metadata": {},
   "outputs": [
    {
     "name": "stdout",
     "output_type": "stream",
     "text": [
      "['Hello', ' World!']\n"
     ]
    }
   ],
   "source": [
    "a = \"Hello, World!\"\n",
    "print(a.split(\",\")) "
   ]
  },
  {
   "cell_type": "code",
   "execution_count": null,
   "id": "3bdc6c56",
   "metadata": {},
   "outputs": [],
   "source": []
  },
  {
   "cell_type": "code",
   "execution_count": null,
   "id": "8a248e5d",
   "metadata": {},
   "outputs": [],
   "source": []
  },
  {
   "cell_type": "markdown",
   "id": "d32dd7bc",
   "metadata": {},
   "source": [
    "# String Concatenation:\n",
    "To concatenate, or combine, two strings you can use the + operator"
   ]
  },
  {
   "cell_type": "code",
   "execution_count": 22,
   "id": "b654cec9",
   "metadata": {},
   "outputs": [
    {
     "name": "stdout",
     "output_type": "stream",
     "text": [
      "HelloWorld\n"
     ]
    }
   ],
   "source": [
    "# Merge variable a with variable b into variable c\n",
    "a = \"Hello\"\n",
    "b = \"World\"\n",
    "c = a + b\n",
    "print(c)"
   ]
  },
  {
   "cell_type": "code",
   "execution_count": 23,
   "id": "6a4d1e59",
   "metadata": {},
   "outputs": [
    {
     "name": "stdout",
     "output_type": "stream",
     "text": [
      "Hello World\n"
     ]
    }
   ],
   "source": [
    "# To add a space between them, add a \" \":\n",
    "a = \"Hello\"\n",
    "b = \"World\"\n",
    "c = a + \" \" + b\n",
    "print(c)"
   ]
  },
  {
   "cell_type": "markdown",
   "id": "bdaf8791",
   "metadata": {},
   "source": [
    "# String Format:"
   ]
  },
  {
   "cell_type": "code",
   "execution_count": 24,
   "id": "e2929152",
   "metadata": {},
   "outputs": [
    {
     "name": "stdout",
     "output_type": "stream",
     "text": [
      "enter ur name :Nitish\n",
      "enter ur age :20\n",
      "my name is Nitish and my age is 20\n",
      "my name is 20 and my age is Nitish\n",
      "my name is Nitish and my age is 20\n"
     ]
    }
   ],
   "source": [
    "name = input('enter ur name :')\n",
    "age = int(input('enter ur age :'))\n",
    "print(f\"my name is {name} and my age is {age}\")  # it works above 3.7 python\n",
    "print(\"my name is {} and my age is {}\".format(age,name))\n",
    "print(\"my name is {1} and my age is {0}\".format(age,name))"
   ]
  },
  {
   "cell_type": "code",
   "execution_count": 25,
   "id": "1986b004",
   "metadata": {},
   "outputs": [
    {
     "name": "stdout",
     "output_type": "stream",
     "text": [
      "my name is Nitish and age is 15\n"
     ]
    }
   ],
   "source": [
    "name='Nitish'\n",
    "age=15\n",
    "print(f\"my name is {name} and age is {age}\")"
   ]
  },
  {
   "cell_type": "code",
   "execution_count": 27,
   "id": "d3bc8fc4",
   "metadata": {},
   "outputs": [
    {
     "name": "stdout",
     "output_type": "stream",
     "text": [
      "my name is Nitish and age is 15\n"
     ]
    }
   ],
   "source": [
    "name='Nitish'\n",
    "age=15\n",
    "print(\"my name is {1} and age is {0}\".format(age,name))"
   ]
  },
  {
   "cell_type": "code",
   "execution_count": null,
   "id": "89e3c3ed",
   "metadata": {},
   "outputs": [],
   "source": []
  }
 ],
 "metadata": {
  "kernelspec": {
   "display_name": "Python 3 (ipykernel)",
   "language": "python",
   "name": "python3"
  },
  "language_info": {
   "codemirror_mode": {
    "name": "ipython",
    "version": 3
   },
   "file_extension": ".py",
   "mimetype": "text/x-python",
   "name": "python",
   "nbconvert_exporter": "python",
   "pygments_lexer": "ipython3",
   "version": "3.9.12"
  }
 },
 "nbformat": 4,
 "nbformat_minor": 5
}
