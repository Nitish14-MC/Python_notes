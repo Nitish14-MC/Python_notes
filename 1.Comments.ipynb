{
 "cells": [
  {
   "cell_type": "markdown",
   "id": "c156b9c9",
   "metadata": {},
   "source": [
    "# Comments\n",
    "\n",
    "* Comments can be used to explain Python code.\n",
    "\n",
    "* Comments can be used to prevent execution when testing code.\n",
    "\n"
   ]
  },
  {
   "cell_type": "markdown",
   "id": "883f6c89",
   "metadata": {},
   "source": [
    "### Creating a Comment: With the help of \" # \" symbol"
   ]
  },
  {
   "cell_type": "code",
   "execution_count": null,
   "id": "c84a86eb",
   "metadata": {},
   "outputs": [],
   "source": [
    "# This is how we comment\n",
    "print(\"Hello, World!\") #This is a comment"
   ]
  },
  {
   "cell_type": "markdown",
   "id": "72e6efe8",
   "metadata": {},
   "source": [
    "### Multi-line comments or Docstrings"
   ]
  },
  {
   "cell_type": "code",
   "execution_count": null,
   "id": "3f504e3e",
   "metadata": {},
   "outputs": [],
   "source": [
    "# Below is called as multi-line comments"
   ]
  },
  {
   "cell_type": "code",
   "execution_count": 2,
   "id": "bbd37a05",
   "metadata": {},
   "outputs": [
    {
     "name": "stdout",
     "output_type": "stream",
     "text": [
      "10\n"
     ]
    }
   ],
   "source": [
    "\"\"\"\n",
    "A Python docstring is a string used to document a Python module, class, function or method, so programmers can understand what it does without having to read the details of the implementation\n",
    "\"\"\"\n",
    "\n",
    "b=10\n",
    "print(b)"
   ]
  },
  {
   "cell_type": "code",
   "execution_count": null,
   "id": "6c7333c5",
   "metadata": {},
   "outputs": [],
   "source": [
    "# Below is called as docstring"
   ]
  },
  {
   "cell_type": "code",
   "execution_count": 1,
   "id": "9b1e146e",
   "metadata": {},
   "outputs": [
    {
     "name": "stdout",
     "output_type": "stream",
     "text": [
      "\n",
      "A Python docstring is a string used to document a Python module, class, function or method, so programmers can understand what it does without having to read the details of the implementation\n",
      "\n"
     ]
    }
   ],
   "source": [
    "a=\"\"\"\n",
    "A Python docstring is a string used to document a Python module, class, function or method, so programmers can understand what it does without having to read the details of the implementation\n",
    "\"\"\"\n",
    "\n",
    "print(a)"
   ]
  },
  {
   "cell_type": "code",
   "execution_count": null,
   "id": "2283db57",
   "metadata": {},
   "outputs": [],
   "source": []
  },
  {
   "cell_type": "code",
   "execution_count": null,
   "id": "babff9b0",
   "metadata": {},
   "outputs": [],
   "source": []
  }
 ],
 "metadata": {
  "kernelspec": {
   "display_name": "Python 3 (ipykernel)",
   "language": "python",
   "name": "python3"
  },
  "language_info": {
   "codemirror_mode": {
    "name": "ipython",
    "version": 3
   },
   "file_extension": ".py",
   "mimetype": "text/x-python",
   "name": "python",
   "nbconvert_exporter": "python",
   "pygments_lexer": "ipython3",
   "version": "3.9.12"
  }
 },
 "nbformat": 4,
 "nbformat_minor": 5
}
