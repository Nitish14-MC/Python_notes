{
 "cells": [
  {
   "cell_type": "code",
   "execution_count": null,
   "id": "595d6e80",
   "metadata": {},
   "outputs": [],
   "source": [
    "# Parent class : User\n",
    "# Have a function to show user details\n",
    "# Stores details about account balance\n",
    "# Allows for deposits,withdraw,view_balance"
   ]
  },
  {
   "cell_type": "code",
   "execution_count": 3,
   "id": "8656f806",
   "metadata": {},
   "outputs": [],
   "source": [
    "# Parent class: \n",
    "class User():\n",
    "    def __init__(self,name,age,gender): # Self: means reffering to the object itself\n",
    "        self.name = name\n",
    "        self.age = age\n",
    "        self.gender = gender\n",
    "        \n",
    "        \n",
    "    def show_user_details(self):\n",
    "        print(\"Personal details\")\n",
    "        print()\n",
    "        print(\"Name:\",self.name)\n",
    "        print(\"Age:\",self.age)\n",
    "        print(\"Gender:\",self.gender)"
   ]
  },
  {
   "cell_type": "code",
   "execution_count": 4,
   "id": "e80a1f05",
   "metadata": {},
   "outputs": [
    {
     "name": "stdout",
     "output_type": "stream",
     "text": [
      "Personal details\n",
      "\n",
      "Name: Nitish\n",
      "Age: 24\n",
      "Gender: Male\n"
     ]
    }
   ],
   "source": [
    "Nitish = User(\"Nitish\",24,'Male')\n",
    "Nitish.show_user_details()"
   ]
  },
  {
   "cell_type": "markdown",
   "id": "547419a2",
   "metadata": {},
   "source": [
    "### Now lets code for our child class !!!"
   ]
  },
  {
   "cell_type": "code",
   "execution_count": 10,
   "id": "92890350",
   "metadata": {},
   "outputs": [],
   "source": [
    "# Child class\n",
    "\n",
    "class Bank(User): # Here we are inheriting all the classes from \"User\" class\n",
    "    def __init__(self,name,age,gender):\n",
    "        self.name = name\n",
    "        self.age = age\n",
    "        self.gender = gender\n",
    "        "
   ]
  },
  {
   "cell_type": "code",
   "execution_count": 11,
   "id": "7e94e184",
   "metadata": {},
   "outputs": [],
   "source": [
    "Ram = Bank('Ram',20,'Male')"
   ]
  },
  {
   "cell_type": "code",
   "execution_count": 12,
   "id": "4ab3a6bc",
   "metadata": {},
   "outputs": [
    {
     "data": {
      "text/plain": [
       "'Male'"
      ]
     },
     "execution_count": 12,
     "metadata": {},
     "output_type": "execute_result"
    }
   ],
   "source": [
    "Ram.gender"
   ]
  },
  {
   "cell_type": "code",
   "execution_count": 13,
   "id": "5f0e096e",
   "metadata": {},
   "outputs": [
    {
     "data": {
      "text/plain": [
       "20"
      ]
     },
     "execution_count": 13,
     "metadata": {},
     "output_type": "execute_result"
    }
   ],
   "source": [
    "Ram.age"
   ]
  },
  {
   "cell_type": "markdown",
   "id": "124100d2",
   "metadata": {},
   "source": [
    "## Below is the efficient way of writing the code"
   ]
  },
  {
   "cell_type": "code",
   "execution_count": 6,
   "id": "6f24e7e6",
   "metadata": {},
   "outputs": [],
   "source": [
    "# Child class\n",
    "\n",
    "class Bank(User): # Here we are inheriting all the classes from \"User\" class\n",
    "    def __init__(self,name,age,gender):\n",
    "        super().__init__(name,age,gender)\n",
    "        # This super function avoids us having write the following lines of code again\n",
    "        '''\n",
    "        self.name = name\n",
    "        self.age = age\n",
    "        self.gender = gender\n",
    "        '''"
   ]
  },
  {
   "cell_type": "code",
   "execution_count": 7,
   "id": "c9e6d3d1",
   "metadata": {},
   "outputs": [],
   "source": [
    "Ram = Bank('Ram',20,'Male')"
   ]
  },
  {
   "cell_type": "code",
   "execution_count": 8,
   "id": "5a33388d",
   "metadata": {},
   "outputs": [
    {
     "data": {
      "text/plain": [
       "'Male'"
      ]
     },
     "execution_count": 8,
     "metadata": {},
     "output_type": "execute_result"
    }
   ],
   "source": [
    "Ram.gender"
   ]
  },
  {
   "cell_type": "code",
   "execution_count": 9,
   "id": "2096c342",
   "metadata": {},
   "outputs": [
    {
     "data": {
      "text/plain": [
       "20"
      ]
     },
     "execution_count": 9,
     "metadata": {},
     "output_type": "execute_result"
    }
   ],
   "source": [
    "Ram.age"
   ]
  },
  {
   "cell_type": "code",
   "execution_count": 18,
   "id": "14f28897",
   "metadata": {},
   "outputs": [],
   "source": [
    "# Child class\n",
    "\n",
    "class Bank(User): # Here we are inheriting all the classes from \"User\" class\n",
    "    def __init__(self,name,age,gender):\n",
    "        super().__init__(name,age,gender)\n",
    "        self.balance = 0  # Balance at the begining while openinig account would be Zero\n",
    "        \n",
    "    def deposit(self,amount):\n",
    "        self.amount = amount\n",
    "        self.balance = self.balance +  self.amount \n",
    "        # Here we are adding our deposit amount to the earlier balance\n",
    "        print(\"Your account balance is updated: $\", self.balance)"
   ]
  },
  {
   "cell_type": "code",
   "execution_count": 19,
   "id": "5490ab34",
   "metadata": {},
   "outputs": [
    {
     "name": "stdout",
     "output_type": "stream",
     "text": [
      "Your account balance is updated: $ 2000\n"
     ]
    }
   ],
   "source": [
    "Ram = Bank('Ram',28,'Male')\n",
    "Ram.deposit(2000)"
   ]
  },
  {
   "cell_type": "code",
   "execution_count": 20,
   "id": "f63a7f3c",
   "metadata": {},
   "outputs": [
    {
     "name": "stdout",
     "output_type": "stream",
     "text": [
      "Your account balance is updated: $ 4600\n"
     ]
    }
   ],
   "source": [
    "Ram.deposit(2600)"
   ]
  },
  {
   "cell_type": "markdown",
   "id": "e1381fc5",
   "metadata": {},
   "source": [
    "## Now lets work on withdraw function"
   ]
  },
  {
   "cell_type": "code",
   "execution_count": 21,
   "id": "a06cb84a",
   "metadata": {},
   "outputs": [],
   "source": [
    "# Child class\n",
    "\n",
    "class Bank(User): # Here we are inheriting all the classes from \"User\" class\n",
    "    def __init__(self,name,age,gender):\n",
    "        super().__init__(name,age,gender)\n",
    "        self.balance = 0  # Balance at the begining while openinig account would be Zero\n",
    "        \n",
    "    def deposit(self,amount):\n",
    "        self.amount = amount\n",
    "        self.balance = self.balance +  self.amount \n",
    "        # Here we are adding our deposit amount to the earlier balance\n",
    "        print(\"Your account balance is updated: $\", self.balance)\n",
    "        \n",
    "    def withdraw(self,amount_withdraw):\n",
    "        self.amount_withdraw = amount_withdraw\n",
    "        if self.amount_withdraw > self.balance:\n",
    "            print(\"Insufficient Balance: Balance available: $\", self.balance)\n",
    "        else:\n",
    "            self.balance = self.balance - self.amount_withdraw\n",
    "            print(\"Account balance has been updated: $\", self.balance)"
   ]
  },
  {
   "cell_type": "code",
   "execution_count": 22,
   "id": "90c957a0",
   "metadata": {},
   "outputs": [],
   "source": [
    "Nitish = Bank('Nitish',25,'Male')"
   ]
  },
  {
   "cell_type": "code",
   "execution_count": 23,
   "id": "a1480cd9",
   "metadata": {},
   "outputs": [
    {
     "name": "stdout",
     "output_type": "stream",
     "text": [
      "Your account balance is updated: $ 20000\n"
     ]
    }
   ],
   "source": [
    "Nitish.deposit(20000)"
   ]
  },
  {
   "cell_type": "code",
   "execution_count": 24,
   "id": "f15c88c6",
   "metadata": {},
   "outputs": [
    {
     "name": "stdout",
     "output_type": "stream",
     "text": [
      "Account balance has been updated: $ 16500\n"
     ]
    }
   ],
   "source": [
    "Nitish.withdraw(3500)"
   ]
  },
  {
   "cell_type": "code",
   "execution_count": 25,
   "id": "a9be6247",
   "metadata": {},
   "outputs": [
    {
     "name": "stdout",
     "output_type": "stream",
     "text": [
      "Your account balance is updated: $ 41500\n"
     ]
    }
   ],
   "source": [
    "Nitish.deposit(25000)"
   ]
  },
  {
   "cell_type": "code",
   "execution_count": 26,
   "id": "83b295c9",
   "metadata": {},
   "outputs": [
    {
     "name": "stdout",
     "output_type": "stream",
     "text": [
      "Insufficient Balance: Balance available: $ 41500\n"
     ]
    }
   ],
   "source": [
    "Nitish.withdraw(55000)"
   ]
  },
  {
   "cell_type": "code",
   "execution_count": 31,
   "id": "04bd27c4",
   "metadata": {},
   "outputs": [],
   "source": [
    "# Child class\n",
    "\n",
    "class Bank(User): # Here we are inheriting all the classes from \"User\" class\n",
    "    def __init__(self,name,age,gender):\n",
    "        super().__init__(name,age,gender)\n",
    "        self.balance = 0  # Balance at the begining while openinig account would be Zero\n",
    "        \n",
    "    def deposit(self,amount):\n",
    "        self.amount = amount\n",
    "        self.balance = self.balance +  self.amount \n",
    "        # Here we are adding our deposit amount to the earlier balance\n",
    "        print(\"Your account balance is updated: $\", self.balance)\n",
    "        \n",
    "    def withdraw(self,amount_withdraw):\n",
    "        self.amount_withdraw = amount_withdraw\n",
    "        if self.amount_withdraw > self.balance:\n",
    "            print(\"Insufficient Balance: Balance available: $\", self.balance)\n",
    "        else:\n",
    "            self.balance = self.balance - self.amount_withdraw\n",
    "            print(\"Account balance has been updated: $\", self.balance)\n",
    "            \n",
    "    def view_balance(self):\n",
    "        self.show_user_details()\n",
    "        print(\"Your account balance is : $\", self.balance)"
   ]
  },
  {
   "cell_type": "code",
   "execution_count": 32,
   "id": "670066e7",
   "metadata": {},
   "outputs": [],
   "source": [
    "John = Bank('John',25,'Male')"
   ]
  },
  {
   "cell_type": "code",
   "execution_count": 33,
   "id": "343f16ef",
   "metadata": {},
   "outputs": [
    {
     "name": "stdout",
     "output_type": "stream",
     "text": [
      "Your account balance is updated: $ 20000\n"
     ]
    }
   ],
   "source": [
    "John.deposit(20000)"
   ]
  },
  {
   "cell_type": "code",
   "execution_count": 34,
   "id": "d2927441",
   "metadata": {},
   "outputs": [
    {
     "name": "stdout",
     "output_type": "stream",
     "text": [
      "Personal details\n",
      "\n",
      "Name: John\n",
      "Age: 25\n",
      "Gender: Male\n",
      "Your account balance is : $ 20000\n"
     ]
    }
   ],
   "source": [
    "John.view_balance()"
   ]
  },
  {
   "cell_type": "code",
   "execution_count": null,
   "id": "06dd63fc",
   "metadata": {},
   "outputs": [],
   "source": []
  }
 ],
 "metadata": {
  "kernelspec": {
   "display_name": "Python 3 (ipykernel)",
   "language": "python",
   "name": "python3"
  },
  "language_info": {
   "codemirror_mode": {
    "name": "ipython",
    "version": 3
   },
   "file_extension": ".py",
   "mimetype": "text/x-python",
   "name": "python",
   "nbconvert_exporter": "python",
   "pygments_lexer": "ipython3",
   "version": "3.9.12"
  }
 },
 "nbformat": 4,
 "nbformat_minor": 5
}
