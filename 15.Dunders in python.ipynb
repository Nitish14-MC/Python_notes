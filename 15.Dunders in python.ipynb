{
 "cells": [
  {
   "cell_type": "markdown",
   "id": "5f5ed90a",
   "metadata": {},
   "source": [
    "# Dunders::: Means Double Underscore"
   ]
  },
  {
   "cell_type": "markdown",
   "id": "b0f4797b",
   "metadata": {},
   "source": [
    "### If a method has double underscores in front & back it is called dunder method"
   ]
  },
  {
   "cell_type": "code",
   "execution_count": 1,
   "id": "d3eae76f",
   "metadata": {},
   "outputs": [],
   "source": [
    "# __init__():  method is also a DUNDER Method"
   ]
  },
  {
   "cell_type": "code",
   "execution_count": null,
   "id": "58925895",
   "metadata": {},
   "outputs": [],
   "source": [
    "# Dunder methods are default methods"
   ]
  }
 ],
 "metadata": {
  "kernelspec": {
   "display_name": "Python 3 (ipykernel)",
   "language": "python",
   "name": "python3"
  },
  "language_info": {
   "codemirror_mode": {
    "name": "ipython",
    "version": 3
   },
   "file_extension": ".py",
   "mimetype": "text/x-python",
   "name": "python",
   "nbconvert_exporter": "python",
   "pygments_lexer": "ipython3",
   "version": "3.9.12"
  }
 },
 "nbformat": 4,
 "nbformat_minor": 5
}
