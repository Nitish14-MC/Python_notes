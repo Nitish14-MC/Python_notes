{
 "cells": [
  {
   "cell_type": "markdown",
   "id": "afc54693",
   "metadata": {},
   "source": [
    "# Generally any method we create wtih in class are called instance methods\n",
    "## To perform operations on instance variables we create instance methods"
   ]
  },
  {
   "cell_type": "markdown",
   "id": "d2b77b55",
   "metadata": {},
   "source": [
    "### Class methods are created to perform operations on class variables...We cannot access instance variables using class methods"
   ]
  },
  {
   "cell_type": "code",
   "execution_count": null,
   "id": "20692cdd",
   "metadata": {},
   "outputs": [],
   "source": [
    "# Syntax for creating class method\n",
    "\n",
    "# @classmethod\n",
    "# def methodName(cls,parameters):\n",
    "# BODY"
   ]
  },
  {
   "cell_type": "code",
   "execution_count": null,
   "id": "a3b55d4d",
   "metadata": {},
   "outputs": [],
   "source": [
    "class Student:\n",
    "    @classmethod\n",
    "    def classMethod1(cls):\n",
    "        print(\"class Method created successfully\")"
   ]
  },
  {
   "cell_type": "code",
   "execution_count": null,
   "id": "c37230c0",
   "metadata": {},
   "outputs": [],
   "source": [
    "# Syntax for accesing class methods\n",
    "# object / className.classmethod(arguments)"
   ]
  },
  {
   "cell_type": "code",
   "execution_count": 1,
   "id": "fb68fd44",
   "metadata": {},
   "outputs": [
    {
     "name": "stdout",
     "output_type": "stream",
     "text": [
      "class Method created successfully\n"
     ]
    }
   ],
   "source": [
    "class Student:\n",
    "    @classmethod\n",
    "    def classMethod1(cls):\n",
    "        print(\"class Method created successfully\")\n",
    "        \n",
    "Student.classMethod1() # Here we accessed the class method using class name"
   ]
  },
  {
   "cell_type": "markdown",
   "id": "4ba5fe01",
   "metadata": {},
   "source": [
    "### Now will try to  access the class method using object"
   ]
  },
  {
   "cell_type": "code",
   "execution_count": 2,
   "id": "a7c8b367",
   "metadata": {},
   "outputs": [
    {
     "name": "stdout",
     "output_type": "stream",
     "text": [
      "class Method created successfully\n"
     ]
    }
   ],
   "source": [
    "class Student:\n",
    "    @classmethod\n",
    "    def classMethod1(cls):\n",
    "        print(\"class Method created successfully\")\n",
    "        \n",
    "std1=Student()\n",
    "std1.classMethod1() # Here we accessed the class method using OBJECT"
   ]
  },
  {
   "cell_type": "code",
   "execution_count": null,
   "id": "b8820eca",
   "metadata": {},
   "outputs": [],
   "source": [
    "class Student:\n",
    "    \n",
    "    college=\"SRM\" # This is class variable\n",
    "    \n",
    "    @classmethod\n",
    "    def classMethod1(cls):\n",
    "        print(cls.college)\n",
    "        \n"
   ]
  },
  {
   "cell_type": "code",
   "execution_count": 3,
   "id": "afeeb61f",
   "metadata": {},
   "outputs": [],
   "source": [
    "# Syntax to access class variables\n",
    "# cls.classVariableName"
   ]
  },
  {
   "cell_type": "code",
   "execution_count": 4,
   "id": "be72cb1a",
   "metadata": {},
   "outputs": [
    {
     "name": "stdout",
     "output_type": "stream",
     "text": [
      "SRM\n"
     ]
    }
   ],
   "source": [
    "class Student:\n",
    "    \n",
    "    college=\"SRM\" # This is class variable\n",
    "    \n",
    "    @classmethod\n",
    "    def classMethod1(cls):\n",
    "        print(cls.college)\n",
    "        \n",
    "std1=Student()\n",
    "std1.classMethod1() "
   ]
  },
  {
   "cell_type": "markdown",
   "id": "499a6175",
   "metadata": {},
   "source": [
    "# Updating class variables using class methods"
   ]
  },
  {
   "cell_type": "code",
   "execution_count": null,
   "id": "058f1626",
   "metadata": {},
   "outputs": [],
   "source": [
    "# Syntax:\n",
    "# cls.classVariableName=new_value"
   ]
  },
  {
   "cell_type": "code",
   "execution_count": 6,
   "id": "878dca38",
   "metadata": {},
   "outputs": [
    {
     "name": "stdout",
     "output_type": "stream",
     "text": [
      "Before updation\n",
      "SRM\n",
      "\n",
      "After updation\n",
      "SRM University-AP\n"
     ]
    }
   ],
   "source": [
    "class Student:\n",
    "    \n",
    "    college=\"SRM\" # This is class variable\n",
    "    \n",
    "    @classmethod\n",
    "    def classMethod1(cls,new_value):\n",
    "        print(\"Before updation\")\n",
    "        print(cls.college)\n",
    "        print()\n",
    "        print(\"After updation\")\n",
    "        cls.college=new_value\n",
    "        print(cls.college)\n",
    "        \n",
    "std1=Student()\n",
    "std1.classMethod1('SRM University-AP') "
   ]
  },
  {
   "cell_type": "markdown",
   "id": "62cfd412",
   "metadata": {},
   "source": [
    "# Deleting class variable using class method"
   ]
  },
  {
   "cell_type": "code",
   "execution_count": null,
   "id": "86856614",
   "metadata": {},
   "outputs": [],
   "source": [
    "# Syntax:\n",
    "# del cls.classVariableName"
   ]
  },
  {
   "cell_type": "code",
   "execution_count": 10,
   "id": "d9c1ed7c",
   "metadata": {},
   "outputs": [
    {
     "name": "stdout",
     "output_type": "stream",
     "text": [
      "Class variable before deletion\n",
      "SRM\n",
      "\n",
      "Class variable before deletion----Will get error\n"
     ]
    },
    {
     "ename": "AttributeError",
     "evalue": "type object 'Student' has no attribute 'college'",
     "output_type": "error",
     "traceback": [
      "\u001b[1;31m---------------------------------------------------------------------------\u001b[0m",
      "\u001b[1;31mAttributeError\u001b[0m                            Traceback (most recent call last)",
      "Input \u001b[1;32mIn [10]\u001b[0m, in \u001b[0;36m<cell line: 15>\u001b[1;34m()\u001b[0m\n\u001b[0;32m     12\u001b[0m         \u001b[38;5;28mprint\u001b[39m(\u001b[38;5;28mcls\u001b[39m\u001b[38;5;241m.\u001b[39mcollege) \u001b[38;5;66;03m# Class variable after deletion\u001b[39;00m\n\u001b[0;32m     14\u001b[0m std1\u001b[38;5;241m=\u001b[39mStudent()\n\u001b[1;32m---> 15\u001b[0m \u001b[43mstd1\u001b[49m\u001b[38;5;241;43m.\u001b[39;49m\u001b[43mclassMethod1\u001b[49m\u001b[43m(\u001b[49m\u001b[43m)\u001b[49m\n",
      "Input \u001b[1;32mIn [10]\u001b[0m, in \u001b[0;36mStudent.classMethod1\u001b[1;34m(cls)\u001b[0m\n\u001b[0;32m     10\u001b[0m \u001b[38;5;28mprint\u001b[39m(\u001b[38;5;124m\"\u001b[39m\u001b[38;5;124mClass variable before deletion----Will get error\u001b[39m\u001b[38;5;124m\"\u001b[39m)\n\u001b[0;32m     11\u001b[0m \u001b[38;5;28;01mdel\u001b[39;00m \u001b[38;5;28mcls\u001b[39m\u001b[38;5;241m.\u001b[39mcollege\n\u001b[1;32m---> 12\u001b[0m \u001b[38;5;28mprint\u001b[39m(\u001b[38;5;28;43mcls\u001b[39;49m\u001b[38;5;241;43m.\u001b[39;49m\u001b[43mcollege\u001b[49m)\n",
      "\u001b[1;31mAttributeError\u001b[0m: type object 'Student' has no attribute 'college'"
     ]
    }
   ],
   "source": [
    "class Student:\n",
    "    \n",
    "    college=\"SRM\" # This is class variable\n",
    "    \n",
    "    @classmethod\n",
    "    def classMethod1(cls):# In class methods the first parameters should be \"cls\"\n",
    "        print(\"Class variable before deletion\")\n",
    "        print(cls.college)\n",
    "        print()\n",
    "        print(\"Class variable before deletion----Will get error\")\n",
    "        del cls.college\n",
    "        print(cls.college) # Class variable after deletion\n",
    "        \n",
    "std1=Student()\n",
    "std1.classMethod1() "
   ]
  },
  {
   "cell_type": "code",
   "execution_count": null,
   "id": "a8549212",
   "metadata": {},
   "outputs": [],
   "source": []
  }
 ],
 "metadata": {
  "kernelspec": {
   "display_name": "Python 3 (ipykernel)",
   "language": "python",
   "name": "python3"
  },
  "language_info": {
   "codemirror_mode": {
    "name": "ipython",
    "version": 3
   },
   "file_extension": ".py",
   "mimetype": "text/x-python",
   "name": "python",
   "nbconvert_exporter": "python",
   "pygments_lexer": "ipython3",
   "version": "3.9.12"
  }
 },
 "nbformat": 4,
 "nbformat_minor": 5
}
