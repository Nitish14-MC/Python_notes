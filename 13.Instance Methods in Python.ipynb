{
 "cells": [
  {
   "cell_type": "markdown",
   "id": "198b462d",
   "metadata": {},
   "source": [
    "# In oops we have 3 types of METHODS::\n",
    "\n",
    "### 1.Instance method\n",
    "### 2.Class method\n",
    "### 3.Static method"
   ]
  },
  {
   "cell_type": "markdown",
   "id": "9b9dbe64",
   "metadata": {},
   "source": [
    "# 1.Instance method::\n",
    "\n",
    "* By default the methods we create in class are instance methods\n",
    "\n",
    "* Instance methods can create / Access / Modify / delete the objects attributes\n",
    "\n",
    "\n",
    "* Syntax for creating instance method::\n",
    "\n",
    "**** def methodName( self,paremeter1,parameter2,.....parameter N):\n"
   ]
  },
  {
   "cell_type": "code",
   "execution_count": 1,
   "id": "745f755b",
   "metadata": {},
   "outputs": [],
   "source": [
    "class Employee:\n",
    "    def InstanceMethod1(self): # Here we have created an instance method\n",
    "        print(\"Instance method is created\")\n",
    "        \n",
    "    def InstanceMethod2(self,a,b):# Here we have created an instance method\n",
    "        print(a,b)\n",
    "        \n",
    "        "
   ]
  },
  {
   "cell_type": "markdown",
   "id": "2151853d",
   "metadata": {},
   "source": [
    "#### How to call an instance method::\n",
    "\n",
    "* Syntax::    object.instanceMethod(parameters)"
   ]
  },
  {
   "cell_type": "code",
   "execution_count": 2,
   "id": "da8a1ea3",
   "metadata": {},
   "outputs": [
    {
     "name": "stdout",
     "output_type": "stream",
     "text": [
      "Instance method is created\n"
     ]
    }
   ],
   "source": [
    "class Employee:\n",
    "    def InstanceMethod1(self): # Here we have created an instance method\n",
    "        print(\"Instance method is created\")\n",
    "        \n",
    "    def InstanceMethod2(self,a,b):# Here we have created an instance method\n",
    "        print(a,b)\n",
    "        \n",
    "emp1=Employee() # Creating an object emp1 for Employee class\n",
    "\n",
    "emp1.InstanceMethod1() # Calling the instance method using the object\n",
    "\n",
    "        "
   ]
  },
  {
   "cell_type": "code",
   "execution_count": 3,
   "id": "d173dfa6",
   "metadata": {},
   "outputs": [
    {
     "name": "stdout",
     "output_type": "stream",
     "text": [
      "Instance method is created\n",
      "1 2\n"
     ]
    }
   ],
   "source": [
    "class Employee:\n",
    "    def InstanceMethod1(self): # Here we have created an instance method\n",
    "        print(\"Instance method is created\")\n",
    "        \n",
    "    def InstanceMethod2(self,a,b):# Here we have created an instance method\n",
    "        print(a,b)\n",
    "        \n",
    "emp1=Employee() # Creating an object emp1 for Employee class\n",
    "\n",
    "emp1.InstanceMethod1() # Calling the instance method using the object without parameters\n",
    "\n",
    "emp1.InstanceMethod2(1,2)  # Calling the instance method using the object  with parameters "
   ]
  },
  {
   "cell_type": "code",
   "execution_count": 7,
   "id": "5c979135",
   "metadata": {},
   "outputs": [
    {
     "name": "stdout",
     "output_type": "stream",
     "text": [
      "Nitish\n",
      "123\n",
      "10000\n"
     ]
    }
   ],
   "source": [
    "class Employee1:\n",
    "    def __init__(self,name,emp_id,salary):\n",
    "        self.name=name\n",
    "        self.emp_id=emp_id\n",
    "        self.salary=salary\n",
    "        \n",
    "    \n",
    "emp1=Employee1('Nitish',123,10000)\n",
    "\n",
    "print(emp1.name) # Here we are calling the parameters using object\n",
    "print(emp1.emp_id) # Here we are calling the parameters using object\n",
    "print(emp1.salary) # Here we are calling the parameters using object"
   ]
  },
  {
   "cell_type": "code",
   "execution_count": 12,
   "id": "9894223d",
   "metadata": {},
   "outputs": [
    {
     "name": "stdout",
     "output_type": "stream",
     "text": [
      "Nitish\n",
      "Ram\n"
     ]
    }
   ],
   "source": [
    "class Employee1:\n",
    "    def __init__(self,name,emp_id,salary):\n",
    "        self.name=name\n",
    "        self.emp_id=emp_id\n",
    "        self.salary=salary\n",
    "        \n",
    "    def getEmployeeName(self):\n",
    "        print(self.name)\n",
    "    \n",
    "emp1=Employee1('Nitish',123,10000) # Creating an object1\n",
    "\n",
    "emp1.getEmployeeName() # Here we are calling the method using object\n",
    "\n",
    "\n",
    "emp2=Employee1('Ram',143,7800)\n",
    "emp2.getEmployeeName() # Here we are calling the method using object"
   ]
  },
  {
   "cell_type": "code",
   "execution_count": 13,
   "id": "40b30dc9",
   "metadata": {},
   "outputs": [
    {
     "name": "stdout",
     "output_type": "stream",
     "text": [
      "Nitish\n",
      "Ram\n",
      "124\n"
     ]
    }
   ],
   "source": [
    "class Employee1:\n",
    "    A=124 # This is a class variable\n",
    "    def __init__(self,name,emp_id,salary):\n",
    "        self.name=name\n",
    "        self.emp_id=emp_id\n",
    "        self.salary=salary\n",
    "        \n",
    "    def getEmployeeName(self):\n",
    "        print(self.name)\n",
    "        \n",
    "    def getClassVariable(self):\n",
    "        print(self.A)\n",
    "    \n",
    "emp1=Employee1('Nitish',123,10000) # Creating an object1\n",
    "\n",
    "emp1.getEmployeeName() # Here we are calling the method using object\n",
    "\n",
    "\n",
    "emp2=Employee1('Ram',143,7800)\n",
    "emp2.getEmployeeName() # Here we are calling the method using object\n",
    "\n",
    "# Accessing the class varibale using the object emp2\n",
    "emp2.getClassVariable()"
   ]
  },
  {
   "cell_type": "markdown",
   "id": "1996da30",
   "metadata": {},
   "source": [
    "### How to update variables using INSTANCE METHOD"
   ]
  },
  {
   "cell_type": "code",
   "execution_count": 16,
   "id": "bd1c7c78",
   "metadata": {},
   "outputs": [
    {
     "name": "stdout",
     "output_type": "stream",
     "text": [
      "Before updation\n",
      "Nitish\n",
      "\n",
      "After updation\n",
      "Nitish\n"
     ]
    }
   ],
   "source": [
    "class Employee1:\n",
    "    A=124 # This is a class variable\n",
    "    def __init__(self,name,emp_id,salary):\n",
    "        self.name=name\n",
    "        self.emp_id=emp_id\n",
    "        self.salary=salary\n",
    "        \n",
    "    def getEmployeeName(self):\n",
    "        print(self.name)\n",
    "        \n",
    "    def getClassVariable(self):\n",
    "        print(self.A)\n",
    "        \n",
    "    def updateEmployeeName(self,new_name):\n",
    "        self.new_name=new_name\n",
    "    \n",
    "emp1=Employee1('Nitish',123,10000) # Creating an object1\n",
    "print(\"Before updation\")\n",
    "emp1.getEmployeeName() # Here we are calling the method using object\n",
    "print()\n",
    "\n",
    "\n",
    "# Now I want to update the name of emp1 object (From 'Nitish' to 'Nithin')\n",
    "emp1.updateEmployeeName('Nithin')\n",
    "print(\"After updation\")\n",
    "emp1.getEmployeeName() \n"
   ]
  },
  {
   "cell_type": "markdown",
   "id": "9cf189e0",
   "metadata": {},
   "source": [
    "# Here we did a small mistake!!!-- identify and resolve it"
   ]
  },
  {
   "cell_type": "code",
   "execution_count": 17,
   "id": "1a82d45e",
   "metadata": {},
   "outputs": [
    {
     "name": "stdout",
     "output_type": "stream",
     "text": [
      "Before updation\n",
      "Nitish\n",
      "\n",
      "After updation\n",
      "Nithin\n"
     ]
    }
   ],
   "source": [
    "class Employee1:\n",
    "    A=124 # This is a class variable\n",
    "    def __init__(self,name,emp_id,salary):\n",
    "        self.name=name\n",
    "        self.emp_id=emp_id\n",
    "        self.salary=salary\n",
    "        \n",
    "    def getEmployeeName(self):\n",
    "        print(self.name)\n",
    "        \n",
    "    def getClassVariable(self):\n",
    "        print(self.A)\n",
    "        \n",
    "    def updateEmployeeName(self,new_name):\n",
    "        self.name=new_name # previously here we made a mistake and resolved it now\n",
    "    \n",
    "emp1=Employee1('Nitish',123,10000) # Creating an object1\n",
    "print(\"Before updation\")\n",
    "emp1.getEmployeeName() # Here we are calling the method using object\n",
    "print()\n",
    "\n",
    "\n",
    "# Now I want to update the name of emp1 object (From 'Nitish' to 'Nithin')\n",
    "emp1.updateEmployeeName('Nithin')\n",
    "print(\"After updation\")\n",
    "emp1.getEmployeeName() \n"
   ]
  },
  {
   "cell_type": "markdown",
   "id": "79f00b49",
   "metadata": {},
   "source": [
    "# How to update a class variable ???"
   ]
  },
  {
   "cell_type": "code",
   "execution_count": null,
   "id": "baea1cc1",
   "metadata": {},
   "outputs": [],
   "source": [
    "# To update a class variable\n",
    "\n",
    "# self.__class__.classVariable=value"
   ]
  },
  {
   "cell_type": "code",
   "execution_count": 24,
   "id": "8411abe4",
   "metadata": {},
   "outputs": [
    {
     "data": {
      "text/plain": [
       "999"
      ]
     },
     "execution_count": 24,
     "metadata": {},
     "output_type": "execute_result"
    }
   ],
   "source": [
    "class Employee1:\n",
    "    A=124 # This is a class variable\n",
    "    def __init__(self,name,emp_id,salary):\n",
    "        self.name=name\n",
    "        self.emp_id=emp_id\n",
    "        self.salary=salary\n",
    "        \n",
    "    def getEmployeeName(self):\n",
    "        print(self.name)\n",
    "        \n",
    "    def getClassVariable(self):\n",
    "        print(self.A)\n",
    "        \n",
    "    def updateEmployeeName(self,new_name):\n",
    "        self.name=new_name # previously here we made a mistake and resolved it now\n",
    "        \n",
    "    def updateClassVariable(self,new_value):\n",
    "        self.__class__.A=new_value\n",
    "        \n",
    "    \n",
    "emp1=Employee1('Nitish',123,10000) # Creating an object1\n",
    "\n",
    "emp1.updateClassVariable(999)\n",
    "\n",
    "print(Employee1.A) # Printing the updated class variable "
   ]
  },
  {
   "cell_type": "markdown",
   "id": "e4ceb0fb",
   "metadata": {},
   "source": [
    "# Another way of doing same"
   ]
  },
  {
   "cell_type": "code",
   "execution_count": null,
   "id": "e7194366",
   "metadata": {},
   "outputs": [],
   "source": [
    "class Employee1:\n",
    "    A=124 # This is a class variable\n",
    "    def __init__(self,name,emp_id,salary):\n",
    "        self.name=name\n",
    "        self.emp_id=emp_id\n",
    "        self.salary=salary\n",
    "        \n",
    "    def getEmployeeName(self):\n",
    "        print(self.name)\n",
    "        \n",
    "    def getClassVariable(self):\n",
    "        print(self.A)\n",
    "        \n",
    "    def updateEmployeeName(self,new_name):\n",
    "        self.name=new_name # previously here we made a mistake and resolved it now\n",
    "        \n",
    "    def updateClassVariable(self,new_value):\n",
    "        self.__class__.A=new_value\n",
    "        return Employee1.A\n",
    "    \n",
    "emp1=Employee1('Nitish',123,10000) # Creating an object1\n",
    "\n",
    "emp1.updateClassVariable(999)\n",
    "\n"
   ]
  },
  {
   "cell_type": "markdown",
   "id": "e6816d57",
   "metadata": {},
   "source": [
    "# Now lets see how to delete variable using instance method"
   ]
  },
  {
   "cell_type": "code",
   "execution_count": null,
   "id": "12c290c8",
   "metadata": {},
   "outputs": [],
   "source": [
    "# Syntax::\n",
    "\n",
    "# del self.instanceVariable"
   ]
  },
  {
   "cell_type": "code",
   "execution_count": 27,
   "id": "92c4fb59",
   "metadata": {},
   "outputs": [],
   "source": [
    "class Employee1:\n",
    "    A=124 # This is a class variable\n",
    "    def __init__(self,name,emp_id,salary):\n",
    "        self.name=name\n",
    "        self.emp_id=emp_id\n",
    "        self.salary=salary\n",
    "        \n",
    "    def getEmployeeName(self):\n",
    "        print(self.name)\n",
    "        \n",
    "    def getClassVariable(self):\n",
    "        print(self.A)\n",
    "        \n",
    "    def updateEmployeeName(self,new_name):\n",
    "        self.name=new_name # previously here we made a mistake and resolved it now\n",
    "        \n",
    "    def updateClassVariable(self,new_value):\n",
    "        self.__class__.A=new_value\n",
    "        return Employee1.A\n",
    "    \n",
    "    def deleteInstanceVariable(self):\n",
    "        del self.name\n",
    "    \n",
    "emp1=Employee1('Nitish',123,10000) # Creating an object1\n",
    "\n",
    "# Now I want to delete the name of emp1\n",
    "\n",
    "emp1.deleteInstanceVariable()\n",
    "\n",
    "# Now try to access the deleted variable"
   ]
  },
  {
   "cell_type": "code",
   "execution_count": 28,
   "id": "5cc091bc",
   "metadata": {},
   "outputs": [
    {
     "ename": "AttributeError",
     "evalue": "'Employee1' object has no attribute 'name'",
     "output_type": "error",
     "traceback": [
      "\u001b[1;31m---------------------------------------------------------------------------\u001b[0m",
      "\u001b[1;31mAttributeError\u001b[0m                            Traceback (most recent call last)",
      "Input \u001b[1;32mIn [28]\u001b[0m, in \u001b[0;36m<cell line: 1>\u001b[1;34m()\u001b[0m\n\u001b[1;32m----> 1\u001b[0m \u001b[38;5;28mprint\u001b[39m(\u001b[43memp1\u001b[49m\u001b[38;5;241;43m.\u001b[39;49m\u001b[43mname\u001b[49m)\n",
      "\u001b[1;31mAttributeError\u001b[0m: 'Employee1' object has no attribute 'name'"
     ]
    }
   ],
   "source": [
    "print(emp1.name) # Will get error"
   ]
  },
  {
   "cell_type": "markdown",
   "id": "0089a4a0",
   "metadata": {},
   "source": [
    "# Now how to delete class variable::\n"
   ]
  },
  {
   "cell_type": "code",
   "execution_count": null,
   "id": "308102a1",
   "metadata": {},
   "outputs": [],
   "source": [
    "# Syntax::\n",
    "# del self.__class__.classVariable"
   ]
  },
  {
   "cell_type": "code",
   "execution_count": 30,
   "id": "4acfddb1",
   "metadata": {},
   "outputs": [],
   "source": [
    "class Employee1:\n",
    "    A=124 # This is a class variable\n",
    "    def __init__(self,name,emp_id,salary):\n",
    "        self.name=name\n",
    "        self.emp_id=emp_id\n",
    "        self.salary=salary\n",
    "        \n",
    "    def getEmployeeName(self):\n",
    "        print(self.name)\n",
    "        \n",
    "    def getClassVariable(self):\n",
    "        print(self.A)\n",
    "        \n",
    "    def updateEmployeeName(self,new_name):\n",
    "        self.name=new_name # previously here we made a mistake and resolved it now\n",
    "        \n",
    "    def updateClassVariable(self,new_value):\n",
    "        self.__class__.A=new_value\n",
    "        return Employee1.A\n",
    "    \n",
    "    def deleteInstanceVariable(self):\n",
    "        del self.name\n",
    "        \n",
    "    def deleteClassVariable(self):\n",
    "        del self.__class__.A\n",
    "    \n",
    "emp1=Employee1('Nitish',123,10000) # Creating an object1\n",
    "\n",
    "emp1.deleteClassVariable()\n",
    "\n",
    "# Now try to access the deleted variable"
   ]
  },
  {
   "cell_type": "code",
   "execution_count": 32,
   "id": "26892b33",
   "metadata": {},
   "outputs": [
    {
     "ename": "AttributeError",
     "evalue": "type object 'Employee1' has no attribute 'A'",
     "output_type": "error",
     "traceback": [
      "\u001b[1;31m---------------------------------------------------------------------------\u001b[0m",
      "\u001b[1;31mAttributeError\u001b[0m                            Traceback (most recent call last)",
      "Input \u001b[1;32mIn [32]\u001b[0m, in \u001b[0;36m<cell line: 1>\u001b[1;34m()\u001b[0m\n\u001b[1;32m----> 1\u001b[0m \u001b[38;5;28mprint\u001b[39m(\u001b[43mEmployee1\u001b[49m\u001b[38;5;241;43m.\u001b[39;49m\u001b[43mA\u001b[49m)\n",
      "\u001b[1;31mAttributeError\u001b[0m: type object 'Employee1' has no attribute 'A'"
     ]
    }
   ],
   "source": [
    "print(Employee1.A)"
   ]
  },
  {
   "cell_type": "code",
   "execution_count": null,
   "id": "802b0189",
   "metadata": {},
   "outputs": [],
   "source": []
  }
 ],
 "metadata": {
  "kernelspec": {
   "display_name": "Python 3 (ipykernel)",
   "language": "python",
   "name": "python3"
  },
  "language_info": {
   "codemirror_mode": {
    "name": "ipython",
    "version": 3
   },
   "file_extension": ".py",
   "mimetype": "text/x-python",
   "name": "python",
   "nbconvert_exporter": "python",
   "pygments_lexer": "ipython3",
   "version": "3.9.12"
  }
 },
 "nbformat": 4,
 "nbformat_minor": 5
}
