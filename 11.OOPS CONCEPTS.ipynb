{
 "cells": [
  {
   "cell_type": "markdown",
   "id": "c35687c9",
   "metadata": {},
   "source": [
    "# OOPS CONCEPTS::\n",
    "* object-oriented Programming (OOPs) is a programming paradigm that uses objects and classes in programming.\n",
    "\n",
    "* It aims to implement real-world entities like inheritance, polymorphisms, encapsulation, etc. in the programming.\n",
    "\n",
    "* The oops concept focuses on writing the reusable code\n",
    "\n",
    "1 .Class\n",
    "\n",
    "2 .Object\n",
    "\n",
    "3 .Inheritance :: Single,Multilevel,Hierarchical,Multiple\n",
    "\n",
    "4 .Polymorphism :: Compile time polymorphism, Run time polymorphism\n",
    "\n",
    "5 .Abstraction\n",
    "\n",
    "6 .Encapsulation & Data Hiding"
   ]
  },
  {
   "cell_type": "code",
   "execution_count": 1,
   "id": "c2f1dbff",
   "metadata": {},
   "outputs": [],
   "source": [
    "class Human:\n",
    "    color=\"white\"  # Attributes\n",
    "    height=5.11    # Attributes\n",
    "    \n",
    "    def run(self):  #Methods / Functions\n",
    "        print(\"Running...\")\n",
    "    def walk(self): #Methods / Functions\n",
    "        print(\"Walking...\")"
   ]
  },
  {
   "cell_type": "code",
   "execution_count": 2,
   "id": "dc340fe3",
   "metadata": {},
   "outputs": [
    {
     "ename": "NameError",
     "evalue": "name 'color' is not defined",
     "output_type": "error",
     "traceback": [
      "\u001b[1;31m---------------------------------------------------------------------------\u001b[0m",
      "\u001b[1;31mNameError\u001b[0m                                 Traceback (most recent call last)",
      "Input \u001b[1;32mIn [2]\u001b[0m, in \u001b[0;36m<cell line: 1>\u001b[1;34m()\u001b[0m\n\u001b[1;32m----> 1\u001b[0m \u001b[38;5;28mprint\u001b[39m(\u001b[43mcolor\u001b[49m)\n",
      "\u001b[1;31mNameError\u001b[0m: name 'color' is not defined"
     ]
    }
   ],
   "source": [
    "print(color) # Here you are trying to access the attributes of class directly.....This will give error"
   ]
  },
  {
   "cell_type": "code",
   "execution_count": 3,
   "id": "81eb1fee",
   "metadata": {},
   "outputs": [
    {
     "name": "stdout",
     "output_type": "stream",
     "text": [
      "white\n"
     ]
    }
   ],
   "source": [
    "print(Human.color)"
   ]
  },
  {
   "cell_type": "markdown",
   "id": "22b58883",
   "metadata": {},
   "source": [
    "#### Note::- we can't directly access the class attributes without creating an object......Hence it is mandatory to create an object for accessing the class attributes"
   ]
  },
  {
   "cell_type": "markdown",
   "id": "0f169126",
   "metadata": {},
   "source": [
    "# Object creation syntax:\n",
    "\n",
    "* obj_name=class_name()"
   ]
  },
  {
   "cell_type": "code",
   "execution_count": 4,
   "id": "964c6edb",
   "metadata": {},
   "outputs": [
    {
     "name": "stdout",
     "output_type": "stream",
     "text": [
      "white 5.11\n",
      "Running...\n",
      "Walking...\n"
     ]
    }
   ],
   "source": [
    "class Human:\n",
    "    color=\"white\"  # Attributes\n",
    "    height=5.11    # Attributes\n",
    "    \n",
    "    def run(self):  #Methods / Functions\n",
    "        print(\"Running...\")\n",
    "    def walk(self): #Methods / Functions\n",
    "        print(\"Walking...\")\n",
    "        \n",
    "# Object Creation\n",
    "Nitish=Human()\n",
    "print(Nitish.color,Nitish.height) #Accessing the attributes after creating an object\n",
    "\n",
    "Nitish.run()  # Accessing the methods==> Methods are called using the object name\n",
    "Nitish.walk() # Accessing the methods"
   ]
  },
  {
   "cell_type": "markdown",
   "id": "33820704",
   "metadata": {},
   "source": [
    "## Can I access using class name-----Yes!! "
   ]
  },
  {
   "cell_type": "code",
   "execution_count": 5,
   "id": "a717cfb0",
   "metadata": {},
   "outputs": [
    {
     "name": "stdout",
     "output_type": "stream",
     "text": [
      "white\n"
     ]
    }
   ],
   "source": [
    "print(Human.color) # Yes,we can access the attributes using class .This is one another way than using objects"
   ]
  },
  {
   "cell_type": "code",
   "execution_count": 6,
   "id": "afacc0e1",
   "metadata": {},
   "outputs": [
    {
     "name": "stdout",
     "output_type": "stream",
     "text": [
      "white 5.11\n",
      "Running...\n",
      "Walking...\n"
     ]
    }
   ],
   "source": [
    "class Human:\n",
    "    color=\"white\"  # Attributes\n",
    "    height=5.11    # Attributes\n",
    "    \n",
    "    def run(self):  #Methods / Functions\n",
    "        print(\"Running...\")\n",
    "    def walk(self): #Methods / Functions\n",
    "        print(\"Walking...\")\n",
    "        \n",
    "# Object Creation\n",
    "Nitish=Human()\n",
    "print(Nitish.color,Nitish.height) #Accessing the attributes after creating an object\n",
    "\n",
    "Nitish.run()  # Accessing the methods==> Methods are called using the object name\n",
    "Nitish.walk() # Accessing the methods"
   ]
  },
  {
   "cell_type": "markdown",
   "id": "993189f8",
   "metadata": {},
   "source": [
    "####  Note: Here if you note color is white and height is 5.11....All persons cannot be with same color and same height...in the above program by default we have color as white and height as 5.11...."
   ]
  },
  {
   "cell_type": "markdown",
   "id": "0d9cc159",
   "metadata": {},
   "source": [
    "#### So to create respective colors and height...Here we introduce,the concept of CONSTRUCTORS"
   ]
  },
  {
   "cell_type": "code",
   "execution_count": null,
   "id": "8c54bca1",
   "metadata": {},
   "outputs": [],
   "source": []
  },
  {
   "cell_type": "markdown",
   "id": "dfd06ed1",
   "metadata": {},
   "source": [
    "###  Constructor:\n",
    "\n",
    "* --init--(self):\n",
    "\n",
    "<br><br>\n",
    "* Constructors are used for object initilization"
   ]
  },
  {
   "cell_type": "code",
   "execution_count": 7,
   "id": "59a9c4b5",
   "metadata": {},
   "outputs": [
    {
     "name": "stdout",
     "output_type": "stream",
     "text": [
      "Constructor\n",
      "Constructor\n",
      "Constructor\n"
     ]
    }
   ],
   "source": [
    "class Human:\n",
    "    \n",
    "    def __init__(self):\n",
    "        print(\"Constructor\")\n",
    "    def run(self):  #Methods / Functions\n",
    "        print(\"Running...\")\n",
    "    def walk(self): #Methods / Functions\n",
    "        print(\"Walking...\")\n",
    "        \n",
    "# Object Creation\n",
    "Nitish=Human()  # 1st obect is created\n",
    "Sam=Human()  # 2nd obect is created\n",
    "Rahul=Human() # 3rd obect is created\n"
   ]
  },
  {
   "cell_type": "markdown",
   "id": "345450d0",
   "metadata": {},
   "source": [
    "### Here constructor is called or invoked whenever the object is created"
   ]
  },
  {
   "cell_type": "code",
   "execution_count": 8,
   "id": "7dd0451e",
   "metadata": {},
   "outputs": [],
   "source": [
    "# Commenting the constructor\n",
    "\n",
    "class Human:\n",
    "    \n",
    "    #def __init__(self):\n",
    "       # print(\"Constructor\")\n",
    "    def run(self):  #Methods / Functions\n",
    "        print(\"Running...\")\n",
    "    def walk(self): #Methods / Functions\n",
    "        print(\"Walking...\")\n",
    "        \n",
    "# Object Creation\n",
    "Nitish=Human()  # 1st obect is created\n"
   ]
  },
  {
   "cell_type": "markdown",
   "id": "c111f3fe",
   "metadata": {},
   "source": [
    "####  Just object is created "
   ]
  },
  {
   "cell_type": "code",
   "execution_count": 9,
   "id": "f2383e52",
   "metadata": {},
   "outputs": [
    {
     "ename": "TypeError",
     "evalue": "__init__() missing 2 required positional arguments: 'color' and 'height'",
     "output_type": "error",
     "traceback": [
      "\u001b[1;31m---------------------------------------------------------------------------\u001b[0m",
      "\u001b[1;31mTypeError\u001b[0m                                 Traceback (most recent call last)",
      "Input \u001b[1;32mIn [9]\u001b[0m, in \u001b[0;36m<cell line: 13>\u001b[1;34m()\u001b[0m\n\u001b[0;32m     10\u001b[0m         \u001b[38;5;28mprint\u001b[39m(\u001b[38;5;124m\"\u001b[39m\u001b[38;5;124mWalking...\u001b[39m\u001b[38;5;124m\"\u001b[39m)\n\u001b[0;32m     12\u001b[0m \u001b[38;5;66;03m# Object Creation\u001b[39;00m\n\u001b[1;32m---> 13\u001b[0m Nitish\u001b[38;5;241m=\u001b[39m\u001b[43mHuman\u001b[49m\u001b[43m(\u001b[49m\u001b[43m)\u001b[49m\n\u001b[0;32m     14\u001b[0m \u001b[38;5;28mprint\u001b[39m(Nitish\u001b[38;5;241m.\u001b[39mcolor,Nitish\u001b[38;5;241m.\u001b[39mheight) \u001b[38;5;66;03m#Accessing the attributes after creating an object\u001b[39;00m\n\u001b[0;32m     16\u001b[0m Nitish\u001b[38;5;241m.\u001b[39mrun()  \u001b[38;5;66;03m# Accessing the methods==> Methods are called using the object name\u001b[39;00m\n",
      "\u001b[1;31mTypeError\u001b[0m: __init__() missing 2 required positional arguments: 'color' and 'height'"
     ]
    }
   ],
   "source": [
    "class Human:\n",
    "    \n",
    "    def __init__(self,color,height):\n",
    "        self.color=color\n",
    "        self.height=height\n",
    "    \n",
    "    def run(self):  #Methods / Functions\n",
    "        print(\"Running...\")\n",
    "    def walk(self): #Methods / Functions\n",
    "        print(\"Walking...\")\n",
    "        \n",
    "# Object Creation\n",
    "Nitish=Human()\n",
    "print(Nitish.color,Nitish.height) #Accessing the attributes after creating an object\n",
    "\n",
    "Nitish.run()  # Accessing the methods==> Methods are called using the object name\n",
    "Nitish.walk() # Accessing the methods"
   ]
  },
  {
   "cell_type": "code",
   "execution_count": 11,
   "id": "f81f71d9",
   "metadata": {},
   "outputs": [
    {
     "name": "stdout",
     "output_type": "stream",
     "text": [
      "Red 5.5\n",
      "Running...\n",
      "Walking...\n"
     ]
    }
   ],
   "source": [
    "class Human:\n",
    "    \n",
    "    def __init__(self,color,height):\n",
    "        self.color=color\n",
    "        self.height=height\n",
    "    \n",
    "    def run(self):  #Methods / Functions\n",
    "        print(\"Running...\")\n",
    "    def walk(self): #Methods / Functions\n",
    "        print(\"Walking...\")\n",
    "        \n",
    "# Object Creation\n",
    "Nitish=Human('Red',5.5)\n",
    "print(Nitish.color,Nitish.height) #Accessing the attributes after creating an object\n",
    "\n",
    "Nitish.run()  # Accessing the methods==> Methods are called using the object name\n",
    "Nitish.walk() # Accessing the methods"
   ]
  },
  {
   "cell_type": "code",
   "execution_count": 12,
   "id": "c7ada759",
   "metadata": {},
   "outputs": [
    {
     "name": "stdout",
     "output_type": "stream",
     "text": [
      "Red 11\n",
      "Black 50\n",
      "Fair 65\n",
      "Running...\n",
      "Running...\n",
      "Running...\n"
     ]
    }
   ],
   "source": [
    "class Human:\n",
    "    \n",
    "    def __init__(self,color,height): # Here we are using some parameters which need to passed when the object is created\n",
    "        self.color=color\n",
    "        self.height=height\n",
    "    \n",
    "    def run(self):  #Methods / Functions\n",
    "        print(\"Running...\")\n",
    "    def walk(self): #Methods / Functions\n",
    "        print( \"Walking...\")\n",
    "        \n",
    "# First Object Creation\n",
    "Nitish=Human(\"Red\",11 )\n",
    "print(Nitish.color,Nitish.height) #Accessing the attributes after creating an object\n",
    "\n",
    "# Second Object Creation\n",
    "siva=Human(\"Black\",50)\n",
    "print(siva.color,siva.height)\n",
    "\n",
    "# Third Object Creation\n",
    "Krish=Human(\"Fair\",65)\n",
    "print(Krish.color,Krish.height)\n",
    "\n",
    "Nitish.run()\n",
    "siva.run()\n",
    "Krish.run()"
   ]
  },
  {
   "cell_type": "markdown",
   "id": "4c29afb9",
   "metadata": {},
   "source": [
    "#   InHeritance Concepts:\n",
    "\n",
    "* Acquiring the properties of parent class"
   ]
  },
  {
   "cell_type": "code",
   "execution_count": 13,
   "id": "ef6f84af",
   "metadata": {},
   "outputs": [
    {
     "name": "stdout",
     "output_type": "stream",
     "text": [
      "10 100\n",
      "Base Class\n"
     ]
    }
   ],
   "source": [
    "class BaseClass:\n",
    "    a=10\n",
    "    b=100\n",
    "    def display(self):\n",
    "        print(\"Base Class\")\n",
    "        \n",
    "class DerivedClass:\n",
    "    c=20\n",
    "    d=200\n",
    "    def show(self):\n",
    "        print(\"Derived Class\")\n",
    "        \n",
    "Bobject=BaseClass() # Creating object\n",
    "print(Bobject.a,Bobject.b) #Accessing attributes through object\n",
    "Bobject.display() # Accessing fucntion or method\n",
    "\n"
   ]
  },
  {
   "cell_type": "markdown",
   "id": "6cda035a",
   "metadata": {},
   "source": [
    "####  Can I access DerivedClass attributes using BaseClass Object......Ans: No...It won't work"
   ]
  },
  {
   "cell_type": "code",
   "execution_count": 14,
   "id": "7e58399f",
   "metadata": {},
   "outputs": [
    {
     "ename": "AttributeError",
     "evalue": "'BaseClass' object has no attribute 'c'",
     "output_type": "error",
     "traceback": [
      "\u001b[1;31m---------------------------------------------------------------------------\u001b[0m",
      "\u001b[1;31mAttributeError\u001b[0m                            Traceback (most recent call last)",
      "Input \u001b[1;32mIn [14]\u001b[0m, in \u001b[0;36m<cell line: 1>\u001b[1;34m()\u001b[0m\n\u001b[1;32m----> 1\u001b[0m \u001b[38;5;28mprint\u001b[39m(\u001b[43mBobject\u001b[49m\u001b[38;5;241;43m.\u001b[39;49m\u001b[43mc\u001b[49m,Bobject\u001b[38;5;241m.\u001b[39md)\n",
      "\u001b[1;31mAttributeError\u001b[0m: 'BaseClass' object has no attribute 'c'"
     ]
    }
   ],
   "source": [
    "print(Bobject.c,Bobject.d)"
   ]
  },
  {
   "cell_type": "markdown",
   "id": "02eb90c9",
   "metadata": {},
   "source": [
    "####  So what is the way to access DerivedClassattributes.....Ans:- Create object for Derived class "
   ]
  },
  {
   "cell_type": "code",
   "execution_count": 15,
   "id": "b18d7f13",
   "metadata": {},
   "outputs": [
    {
     "name": "stdout",
     "output_type": "stream",
     "text": [
      "10 100\n",
      "Base Class\n",
      "\n",
      "20 200\n",
      "Derived Class\n"
     ]
    }
   ],
   "source": [
    "class BaseClass:\n",
    "    a=10\n",
    "    b=100\n",
    "    def display(self):\n",
    "        print(\"Base Class\")\n",
    "        \n",
    "class DerivedClass:\n",
    "    c=20\n",
    "    d=200\n",
    "    def show(self):\n",
    "        print(\"Derived Class\")\n",
    "        \n",
    "Bobject=BaseClass() # Creating object for BASE CLASS\n",
    "print(Bobject.a,Bobject.b) #Accessing attributes through object\n",
    "Bobject.display() # Accessing fucntion or method\n",
    "\n",
    "print() # For space\n",
    "\n",
    "Dobject=DerivedClass()  # Creating object for CHILD CLASS\n",
    "print(Dobject.c,Dobject.d)\n",
    "Dobject.show()\n"
   ]
  },
  {
   "cell_type": "markdown",
   "id": "ab1cef74",
   "metadata": {},
   "source": [
    "#### Now I am using the concept of INHERITANCE ..so that i can access both classes attributes and functions...without creating objects seperatly everytime"
   ]
  },
  {
   "cell_type": "markdown",
   "id": "b79efe02",
   "metadata": {},
   "source": [
    "###  Inheritance:\n",
    "\n",
    "* Syntax=======>Derivedclass(Baseclass)"
   ]
  },
  {
   "cell_type": "code",
   "execution_count": 16,
   "id": "2f724f79",
   "metadata": {},
   "outputs": [
    {
     "name": "stdout",
     "output_type": "stream",
     "text": [
      "10 100\n",
      "20 200\n",
      "Base Class\n",
      "Derived Class\n"
     ]
    }
   ],
   "source": [
    "class BaseClass: # This is Parent class \n",
    "    a=10\n",
    "    b=100\n",
    "    def display(self):\n",
    "        print(\"Base Class\")\n",
    "        \n",
    "class DerivedClass(BaseClass): # This is child class\n",
    "    c=20\n",
    "    d=200\n",
    "    def show(self):\n",
    "        print(\"Derived Class\")\n",
    "        \n",
    "# Bobject=BaseClass() # Creating object for BASE CLASS\n",
    "# print(Bobject.a,Bobject.b) #Accessing attributes through object\n",
    "# Bobject.display() # Accessing fucntion or method\n",
    "\n",
    "# print() # For space\n",
    "\n",
    "# Dobject=DerivedClass() # Creating object for CHILD CLASS\n",
    "# print(Dobject.c,Dobject.d)\n",
    "# Dobject.show()\n",
    "\n",
    "'''\n",
    "Note:-In Inheritance:- Here no need to create two objects for accessing the attributes of both(base& parent class) \n",
    "\n",
    "      Why :-Because in inheritance child class derives the properties of parent class\n",
    "'''\n",
    "\n",
    "Dobject=DerivedClass()\n",
    "print(Dobject.a,Dobject.b) # Here we are trying to access the parent class attributes using Derived class object\n",
    "print(Dobject.c,Dobject.d)\n",
    "Dobject.display() # Here we are trying to access the parent class method using Derived class object\n",
    "Dobject.show() "
   ]
  },
  {
   "cell_type": "code",
   "execution_count": 17,
   "id": "ae878518",
   "metadata": {},
   "outputs": [
    {
     "name": "stdout",
     "output_type": "stream",
     "text": [
      "10 100\n"
     ]
    }
   ],
   "source": [
    "class BaseClass: # This is Parent class \n",
    "    a=10\n",
    "    b=100\n",
    "    def display(self):\n",
    "        print(\"Base Class\")\n",
    "        \n",
    "class DerivedClass(BaseClass): # This is child class\n",
    "    c=20\n",
    "    d=200\n",
    "    def show(self):\n",
    "        print(\"Derived Class\")\n",
    "        \n",
    "Bobject=BaseClass()\n",
    "print(Bobject.a,Bobject.b)"
   ]
  },
  {
   "cell_type": "code",
   "execution_count": 18,
   "id": "ee8d6f73",
   "metadata": {},
   "outputs": [
    {
     "ename": "AttributeError",
     "evalue": "'BaseClass' object has no attribute 'c'",
     "output_type": "error",
     "traceback": [
      "\u001b[1;31m---------------------------------------------------------------------------\u001b[0m",
      "\u001b[1;31mAttributeError\u001b[0m                            Traceback (most recent call last)",
      "Input \u001b[1;32mIn [18]\u001b[0m, in \u001b[0;36m<cell line: 2>\u001b[1;34m()\u001b[0m\n\u001b[0;32m      1\u001b[0m \u001b[38;5;66;03m# Here we will get error\u001b[39;00m\n\u001b[1;32m----> 2\u001b[0m \u001b[38;5;28mprint\u001b[39m(\u001b[43mBobject\u001b[49m\u001b[38;5;241;43m.\u001b[39;49m\u001b[43mc\u001b[49m,Bobject\u001b[38;5;241m.\u001b[39md)\n",
      "\u001b[1;31mAttributeError\u001b[0m: 'BaseClass' object has no attribute 'c'"
     ]
    }
   ],
   "source": [
    "# Here we will get error\n",
    "print(Bobject.c,Bobject.d)"
   ]
  },
  {
   "cell_type": "markdown",
   "id": "0f834582",
   "metadata": {},
   "source": [
    "##  Why error:- If you clearly notice here we are deriving the properties of base class to the derived class......Here we are not inheriting the derived class properties to the parent class( WHICH IS NOT-LOGICAL)\n",
    "\n",
    "\n",
    "\n",
    "* <b>Conclusion:</b> In Inheritance child class can access the properties/attributes of parent class"
   ]
  },
  {
   "cell_type": "markdown",
   "id": "c87e1048",
   "metadata": {},
   "source": [
    "## Single Inheritance Example::"
   ]
  },
  {
   "cell_type": "code",
   "execution_count": 19,
   "id": "c53ff19f",
   "metadata": {},
   "outputs": [
    {
     "name": "stdout",
     "output_type": "stream",
     "text": [
      "10 100\n",
      "Base Class\n",
      "\n",
      "SINGLE INHERITANCE\n",
      "\n",
      "20 200\n",
      "Derived Class\n"
     ]
    }
   ],
   "source": [
    "class BaseClass: # This is Parent class \n",
    "    a=10\n",
    "    b=100\n",
    "    def display(self):\n",
    "        print(\"Base Class\")\n",
    "        \n",
    "class DerivedClass(BaseClass): # This is child class\n",
    "    c=20\n",
    "    d=200\n",
    "    def show(self):\n",
    "        print(\"Derived Class\")\n",
    "        \n",
    "# Bobject=BaseClass() # Creating object for BASE CLASS\n",
    "# print(Bobject.a,Bobject.b) #Accessing attributes through object\n",
    "# Bobject.display() # Accessing fucntion or method\n",
    "\n",
    "# print() # For space\n",
    "\n",
    "# Dobject=DerivedClass() # Creating object for CHILD CLASS\n",
    "# print(Dobject.c,Dobject.d)\n",
    "# Dobject.show()\n",
    "\n",
    "'''\n",
    "Note:-In Inheritance:- Here no need to create two objects for accessing the attributes of both(base& parent class) \n",
    "\n",
    "      Why :-Because in inheritance child class derives the properties of parent class\n",
    "'''\n",
    "\n",
    "Dobject=DerivedClass()\n",
    "print(Dobject.a,Dobject.b) # Here we are trying to access the parent class attributes using Derived class object\n",
    "Dobject.display() # Here we are trying to access the parent class method using Derived class object\n",
    "print()\n",
    "print(\"SINGLE INHERITANCE\")\n",
    "print()\n",
    "Dobject=DerivedClass()\n",
    "print(Dobject.c,Dobject.d)\n",
    "Dobject.show()"
   ]
  },
  {
   "cell_type": "code",
   "execution_count": null,
   "id": "37c919a9",
   "metadata": {},
   "outputs": [],
   "source": []
  },
  {
   "attachments": {
    "Multilevel_Inheritance.png": {
     "image/png": "[encoded data removed]"
    }
   },
   "cell_type": "markdown",
   "id": "564225f0",
   "metadata": {},
   "source": [
    "## Multi-level Inheritance \n",
    "![Multilevel_Inheritance.png](attachment:Multilevel_Inheritance.png)"
   ]
  },
  {
   "cell_type": "code",
   "execution_count": 20,
   "id": "4b6d6fd0",
   "metadata": {},
   "outputs": [
    {
     "name": "stdout",
     "output_type": "stream",
     "text": [
      "10 100\n",
      "Grand parent class\n",
      "\n",
      "20 200 45 75\n",
      "Grand parent class\n",
      "Parent class\n",
      "Child class\n",
      "\n",
      "10 100\n",
      "Grand parent class\n"
     ]
    }
   ],
   "source": [
    "class Grandparent:\n",
    "    a=10\n",
    "    b=100\n",
    "    \n",
    "    def show(self):\n",
    "        print(\"Grand parent class\")\n",
    "        \n",
    "class Parent(Grandparent):\n",
    "    c=20\n",
    "    d=200\n",
    "    \n",
    "    def display(self):\n",
    "        print(\"Parent class\")\n",
    "        \n",
    "class Child(Parent):\n",
    "    e=45\n",
    "    f=75\n",
    "    \n",
    "    def see(self):\n",
    "        print(\"Child class\")\n",
    "\n",
    "        \n",
    "#Parent can access the attributes and functions of Grandparent\n",
    "Pt=Parent()\n",
    "print(Pt.a,Pt.b)\n",
    "Pt.show()\n",
    "\n",
    "print()\n",
    "# Child can access the properties and functions of Grandparent and parent\n",
    "Ch=Child()\n",
    "print(Ch.c,Ch.d,Ch.e,Ch.f)\n",
    "Ch.show()\n",
    "Ch.display()\n",
    "Ch.see()\n",
    "print()\n",
    "\n",
    "# Grandparent can access only the attributes of Grandparent...It cannot access the attributes of PARENT & CHILD\n",
    "Gp=Grandparent()\n",
    "print(Gp.a,Gp.b)\n",
    "Gp.show()\n"
   ]
  },
  {
   "cell_type": "code",
   "execution_count": 21,
   "id": "bac3590b",
   "metadata": {},
   "outputs": [
    {
     "ename": "AttributeError",
     "evalue": "'Grandparent' object has no attribute 'c'",
     "output_type": "error",
     "traceback": [
      "\u001b[1;31m---------------------------------------------------------------------------\u001b[0m",
      "\u001b[1;31mAttributeError\u001b[0m                            Traceback (most recent call last)",
      "Input \u001b[1;32mIn [21]\u001b[0m, in \u001b[0;36m<cell line: 2>\u001b[1;34m()\u001b[0m\n\u001b[0;32m      1\u001b[0m \u001b[38;5;66;03m# Grandparent can access only the attributes of Grandparent...It cannot access the attributes of PARENT & CHILD\u001b[39;00m\n\u001b[1;32m----> 2\u001b[0m \u001b[38;5;28mprint\u001b[39m(\u001b[43mGp\u001b[49m\u001b[38;5;241;43m.\u001b[39;49m\u001b[43mc\u001b[49m,Gp\u001b[38;5;241m.\u001b[39md,Gp\u001b[38;5;241m.\u001b[39me,Gp\u001b[38;5;241m.\u001b[39mf)\n",
      "\u001b[1;31mAttributeError\u001b[0m: 'Grandparent' object has no attribute 'c'"
     ]
    }
   ],
   "source": [
    "# Grandparent can access only the attributes of Grandparent...It cannot access the attributes of PARENT & CHILD\n",
    "print(Gp.c,Gp.d,Gp.e,Gp.f)"
   ]
  },
  {
   "attachments": {
    "hierarchical-inheritance-2.jpg": {
     "image/jpeg": "[encoded data removed]"
    }
   },
   "cell_type": "markdown",
   "id": "f8496e32",
   "metadata": {},
   "source": [
    "## Hierarchical Inheritance:: One parent & Multiple children\n",
    "\n",
    "![hierarchical-inheritance-2.jpg](attachment:hierarchical-inheritance-2.jpg)"
   ]
  },
  {
   "cell_type": "code",
   "execution_count": 22,
   "id": "778acf4a",
   "metadata": {},
   "outputs": [
    {
     "name": "stdout",
     "output_type": "stream",
     "text": [
      "10 20 30 40\n",
      "Child class1\n",
      "Base Class-Parent class\n",
      "\n",
      "10 20 50 60\n",
      "Base Class-Parent class\n",
      "Child class2\n"
     ]
    }
   ],
   "source": [
    "class BaseClass:\n",
    "    a=10\n",
    "    b=20\n",
    "    \n",
    "    def Bc(self):\n",
    "        print(\"Base Class-Parent class\")\n",
    "        \n",
    "class Child1(BaseClass):\n",
    "    c=30\n",
    "    d=40\n",
    "    \n",
    "    def c1(self):\n",
    "        print(\"Child class1\")\n",
    "        \n",
    "class Child2(BaseClass):\n",
    "    e=50\n",
    "    f=60\n",
    "    \n",
    "    def c2(self):\n",
    "        print(\"Child class2\")\n",
    "        \n",
    "        \n",
    "# Child1 class can access the attributes  and functions of Baseclass and Child1 class\n",
    "\n",
    "ChOne=Child1()\n",
    "print(ChOne.a,ChOne.b,ChOne.c,ChOne.d)\n",
    "ChOne.c1()\n",
    "ChOne.Bc()\n",
    "print()\n",
    "\n",
    "# Child2 class can access the attributes and functions of Baseclass and Child2 class\n",
    "ChTwo=Child2()\n",
    "print(ChTwo.a,ChTwo.b,ChTwo.e,ChTwo.f)\n",
    "ChTwo.Bc()\n",
    "ChTwo.c2()"
   ]
  },
  {
   "cell_type": "code",
   "execution_count": 23,
   "id": "fdc40959",
   "metadata": {},
   "outputs": [
    {
     "ename": "AttributeError",
     "evalue": "'Child1' object has no attribute 'e'",
     "output_type": "error",
     "traceback": [
      "\u001b[1;31m---------------------------------------------------------------------------\u001b[0m",
      "\u001b[1;31mAttributeError\u001b[0m                            Traceback (most recent call last)",
      "Input \u001b[1;32mIn [23]\u001b[0m, in \u001b[0;36m<cell line: 4>\u001b[1;34m()\u001b[0m\n\u001b[0;32m      1\u001b[0m \u001b[38;5;66;03m#child1 cannot access the attributes and functions of Child2 class\u001b[39;00m\n\u001b[0;32m      3\u001b[0m ChOne\u001b[38;5;241m=\u001b[39mChild1()\n\u001b[1;32m----> 4\u001b[0m \u001b[38;5;28mprint\u001b[39m(\u001b[43mChOne\u001b[49m\u001b[38;5;241;43m.\u001b[39;49m\u001b[43me\u001b[49m,ChOne\u001b[38;5;241m.\u001b[39mf)\n",
      "\u001b[1;31mAttributeError\u001b[0m: 'Child1' object has no attribute 'e'"
     ]
    }
   ],
   "source": [
    "#child1 cannot access the attributes and functions of Child2 class\n",
    "\n",
    "ChOne=Child1()\n",
    "print(ChOne.e,ChOne.f)\n",
    "\n"
   ]
  },
  {
   "attachments": {
    "Multiple_inheritance.png": {
     "image/png": "[encoded data removed]"
    }
   },
   "cell_type": "markdown",
   "id": "44b68fbd",
   "metadata": {},
   "source": [
    "##  Multiple Inheritance:\n",
    "\n",
    "![Multiple_inheritance.png](attachment:Multiple_inheritance.png)"
   ]
  },
  {
   "cell_type": "code",
   "execution_count": 24,
   "id": "abd0bd66",
   "metadata": {},
   "outputs": [
    {
     "name": "stdout",
     "output_type": "stream",
     "text": [
      "2 3 8 9\n",
      "Base class1-Father\n",
      "Base Class2-Mother\n"
     ]
    }
   ],
   "source": [
    "class Father:  # This is independent class(Reason:- It is not deriving any properties)\n",
    "    a=2\n",
    "    b=3\n",
    "    \n",
    "    def fdisplay(self):\n",
    "        print(\"Base class1-Father\")\n",
    "        \n",
    "class Mother: # This is independent class(Reason:- It is not deriving any properties)\n",
    "    c=8\n",
    "    d=9\n",
    "    \n",
    "    def mdisplay(self):\n",
    "        print(\"Base Class2-Mother\")\n",
    "        \n",
    "class Derived(Father,Mother): # Multiple inheritance\n",
    "    pass\n",
    "\n",
    "Dchild=Derived()\n",
    "print(Dchild.a,Dchild.b,Dchild.c,Dchild.d)\n",
    "Dchild.fdisplay()\n",
    "Dchild.mdisplay()"
   ]
  },
  {
   "cell_type": "markdown",
   "id": "d39873d8",
   "metadata": {},
   "source": [
    "# Hybrid inheritance means multiple types of inheritance( ie,single.mutiple,multi-level,hierarchical)"
   ]
  },
  {
   "cell_type": "code",
   "execution_count": null,
   "id": "4fbd4efa",
   "metadata": {},
   "outputs": [],
   "source": []
  },
  {
   "cell_type": "markdown",
   "id": "21646767",
   "metadata": {},
   "source": [
    "##  Polymorphism:\n",
    "\n",
    "* Implementing same thing in different ways\n",
    "<br><br>\n",
    "* we have two polymorphisms:- ( a ) Compile time polymorphism and (b) Run time polymorphism\n",
    "\n",
    "* Compile time polymorphism is achieved through method overloading.PYTHON DON'T SUPPORT COMPILE TIME POLYMORPHISM\n",
    "\n",
    "* Run time polymorphism is achieved through method over-ridding.PYTHON  SUPPORTS RUN TIME POLYMORPHISM"
   ]
  },
  {
   "cell_type": "code",
   "execution_count": null,
   "id": "846e1bdf",
   "metadata": {},
   "outputs": [],
   "source": []
  }
 ],
 "metadata": {
  "kernelspec": {
   "display_name": "Python 3 (ipykernel)",
   "language": "python",
   "name": "python3"
  },
  "language_info": {
   "codemirror_mode": {
    "name": "ipython",
    "version": 3
   },
   "file_extension": ".py",
   "mimetype": "text/x-python",
   "name": "python",
   "nbconvert_exporter": "python",
   "pygments_lexer": "ipython3",
   "version": "3.9.12"
  }
 },
 "nbformat": 4,
 "nbformat_minor": 5
}
