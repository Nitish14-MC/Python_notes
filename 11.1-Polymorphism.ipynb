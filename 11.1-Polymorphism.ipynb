{
 "cells": [
  {
   "cell_type": "markdown",
   "id": "6366ca6f",
   "metadata": {},
   "source": [
    "# Polymorphism::\n",
    "\n",
    "\n",
    "* The word polymorphism means having many forms.\n",
    "\n",
    "\n",
    "\n",
    "* In programming, polymorphism means the same function name (but different signatures) being used for different purposes"
   ]
  },
  {
   "cell_type": "markdown",
   "id": "cfd7f462",
   "metadata": {},
   "source": [
    "# Example-1"
   ]
  },
  {
   "cell_type": "code",
   "execution_count": 1,
   "id": "9bb4bf0e",
   "metadata": {},
   "outputs": [
    {
     "name": "stdout",
     "output_type": "stream",
     "text": [
      "New Delhi is the capital of India.\n",
      "Hindi is the most widely spoken language of India.\n",
      "India is a developing country.\n",
      "Washington, D.C. is the capital of USA.\n",
      "English is the primary language of USA.\n",
      "USA is a developed country.\n"
     ]
    }
   ],
   "source": [
    "class India():\n",
    "    def capital(self):\n",
    "        print(\"New Delhi is the capital of India.\")\n",
    "\n",
    "    def language(self):\n",
    "        print(\"Hindi is the most widely spoken language of India.\")\n",
    "\n",
    "    def type(self):\n",
    "        print(\"India is a developing country.\")\n",
    "\n",
    "class USA():\n",
    "    def capital(self):\n",
    "        print(\"Washington, D.C. is the capital of USA.\")\n",
    "\n",
    "    def language(self):\n",
    "        print(\"English is the primary language of USA.\")\n",
    "\n",
    "    def type(self):\n",
    "        print(\"USA is a developed country.\")\n",
    "\n",
    "obj_ind = India()\n",
    "obj_usa = USA()\n",
    "for country in (obj_ind, obj_usa):\n",
    "    country.capital()\n",
    "    country.language()\n",
    "    country.type()\n"
   ]
  },
  {
   "cell_type": "markdown",
   "id": "dcd83ac8",
   "metadata": {},
   "source": [
    "## Example-2"
   ]
  },
  {
   "cell_type": "code",
   "execution_count": 2,
   "id": "36cbb51a",
   "metadata": {},
   "outputs": [
    {
     "name": "stdout",
     "output_type": "stream",
     "text": [
      "5\n",
      "9\n"
     ]
    }
   ],
   "source": [
    "# A simple Python function to demonstrate\n",
    "# Polymorphism\n",
    "\n",
    "def add(x, y, z = 0):\n",
    "    return x + y+z\n",
    "\n",
    "# Driver code\n",
    "print(add(2, 3))\n",
    "print(add(2, 3, 4))\n"
   ]
  },
  {
   "cell_type": "markdown",
   "id": "ba1d1c75",
   "metadata": {},
   "source": [
    "### Here in both examples we have same functions but they are used for different purposess"
   ]
  },
  {
   "cell_type": "code",
   "execution_count": null,
   "id": "505fbacc",
   "metadata": {},
   "outputs": [],
   "source": []
  }
 ],
 "metadata": {
  "kernelspec": {
   "display_name": "Python 3 (ipykernel)",
   "language": "python",
   "name": "python3"
  },
  "language_info": {
   "codemirror_mode": {
    "name": "ipython",
    "version": 3
   },
   "file_extension": ".py",
   "mimetype": "text/x-python",
   "name": "python",
   "nbconvert_exporter": "python",
   "pygments_lexer": "ipython3",
   "version": "3.9.12"
  }
 },
 "nbformat": 4,
 "nbformat_minor": 5
}
