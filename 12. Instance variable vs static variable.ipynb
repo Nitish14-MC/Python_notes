{
 "cells": [
  {
   "cell_type": "markdown",
   "id": "10e6d610",
   "metadata": {},
   "source": [
    "# In classes there are 3 types of variables::\n",
    "## 1.Static variables or class variables\n",
    "## 2.Instance variable\n",
    "## 3. Local variable"
   ]
  },
  {
   "cell_type": "code",
   "execution_count": null,
   "id": "9df79af6",
   "metadata": {},
   "outputs": [],
   "source": []
  },
  {
   "cell_type": "markdown",
   "id": "bc5930fb",
   "metadata": {},
   "source": [
    "# Local variable::\n",
    "\n",
    "* The variable which is declared inside the method is called LOCAL VARIABLE\n",
    "\n",
    "* It is same as variable declaration in FUNCTIONS"
   ]
  },
  {
   "cell_type": "markdown",
   "id": "13cd88f2",
   "metadata": {},
   "source": [
    "# Static variable:\n",
    "\n",
    "* The variable which is declared outside the method & inside the class then it is called CLASS VARIABLE or STATIC VARIABLE"
   ]
  },
  {
   "cell_type": "code",
   "execution_count": 1,
   "id": "d3f74ce5",
   "metadata": {},
   "outputs": [],
   "source": [
    "class A:\n",
    "    static_variable1=10 # Here we have created static variable\n",
    "    static_variable2=100 # THis is one way of creating a static variable\n",
    "    \n",
    "    def sample_method(self):\n",
    "        print(\"Sample method\")\n",
    "        \n",
    "# Another way of creating a static variable\n",
    "# classname.variable=value\n",
    "\n",
    "A.static_variable3=15\n"
   ]
  },
  {
   "cell_type": "markdown",
   "id": "852871d4",
   "metadata": {},
   "source": [
    "## We can access static variable in 2 ways:\n",
    "\n",
    "### 1st way: className.staticVariableName"
   ]
  },
  {
   "cell_type": "code",
   "execution_count": 3,
   "id": "ee472232",
   "metadata": {},
   "outputs": [
    {
     "name": "stdout",
     "output_type": "stream",
     "text": [
      "10\n",
      "100\n",
      "15\n"
     ]
    }
   ],
   "source": [
    "class A:\n",
    "    static_variable1=10 # Here we have created static variable\n",
    "    static_variable2=100 # THis is one way of creating a static variable\n",
    "    \n",
    "    def sample_method(self):\n",
    "        print(\"Sample method\")\n",
    "        \n",
    "# Another way of creating a static variable\n",
    "# classname.variable=value\n",
    "\n",
    "A.static_variable3=15\n",
    "\n",
    "print(A.static_variable1)\n",
    "print(A.static_variable2)\n",
    "print(A.static_variable3)"
   ]
  },
  {
   "cell_type": "markdown",
   "id": "30af838e",
   "metadata": {},
   "source": [
    "### 2nd way to access static variable::   objectName.staticVariableName"
   ]
  },
  {
   "cell_type": "code",
   "execution_count": 4,
   "id": "c6333b34",
   "metadata": {},
   "outputs": [
    {
     "name": "stdout",
     "output_type": "stream",
     "text": [
      "10\n",
      "100\n",
      "15\n"
     ]
    }
   ],
   "source": [
    "class A:\n",
    "    static_variable1=10 # Here we have created static variable\n",
    "    static_variable2=100 # THis is one way of creating a static variable\n",
    "    \n",
    "    def sample_method(self):\n",
    "        print(\"Sample method\")\n",
    "        \n",
    "# Another way of creating a static variable\n",
    "# classname.variable=value\n",
    "\n",
    "A.static_variable3=15\n",
    "\n",
    "# Creating object for class A\n",
    "obj=A()\n",
    "\n",
    "print(obj.static_variable1)\n",
    "print(obj.static_variable2)\n",
    "print(obj.static_variable3)"
   ]
  },
  {
   "cell_type": "markdown",
   "id": "66077395",
   "metadata": {},
   "source": [
    "### If u want to access static / class variables within the class methods ::\n",
    "#### 1. className.variableName\n",
    "#### 2. self.variableName"
   ]
  },
  {
   "cell_type": "code",
   "execution_count": 5,
   "id": "1d97a956",
   "metadata": {},
   "outputs": [
    {
     "name": "stdout",
     "output_type": "stream",
     "text": [
      "10\n",
      "100\n"
     ]
    }
   ],
   "source": [
    "class A:\n",
    "    static_variable1=10 # Here we have created static variable\n",
    "    static_variable2=100 # THis is one way of creating a static variable\n",
    "    \n",
    "    def sample_method(self): # This is our First instance method\n",
    "        print(\"Sample method\")\n",
    "        \n",
    "    def method1(self): # This is our second instance method\n",
    "        print(self.static_variable1)\n",
    "        print(A.static_variable2)\n",
    "        \n",
    "# Another way of creating a static variable\n",
    "# classname.variable=value\n",
    "\n",
    "A.static_variable3=15\n",
    "\n",
    "# Creating object for class A\n",
    "obj=A()\n",
    "# Accessing the method1 using object\n",
    "obj.method1()\n",
    "\n"
   ]
  },
  {
   "cell_type": "code",
   "execution_count": 6,
   "id": "627c978f",
   "metadata": {},
   "outputs": [
    {
     "data": {
      "text/plain": [
       "(10, 100)"
      ]
     },
     "execution_count": 6,
     "metadata": {},
     "output_type": "execute_result"
    }
   ],
   "source": [
    "class A:\n",
    "    static_variable1=10 # Here we have created static variable\n",
    "    static_variable2=100 # THis is one way of creating a static variable\n",
    "    \n",
    "    def sample_method(self): # This is our First instance method\n",
    "        print(\"Sample method\")\n",
    "        \n",
    "    def method1(self): # This is our second instance method\n",
    "        return self.static_variable1,A.static_variable2\n",
    "       \n",
    "        \n",
    "        \n",
    "# Another way of creating a static variable\n",
    "# classname.variable=value\n",
    "\n",
    "A.static_variable3=15\n",
    "\n",
    "# Creating object for class A\n",
    "obj=A()\n",
    "# Accessing the method1 using object\n",
    "obj.method1()\n",
    "\n"
   ]
  },
  {
   "cell_type": "markdown",
   "id": "86b57c4c",
   "metadata": {},
   "source": [
    "#### How to update static variable::\n",
    "* className.staticvariable=value"
   ]
  },
  {
   "cell_type": "code",
   "execution_count": 7,
   "id": "133d07c0",
   "metadata": {},
   "outputs": [
    {
     "data": {
      "text/plain": [
       "(10, 80)"
      ]
     },
     "execution_count": 7,
     "metadata": {},
     "output_type": "execute_result"
    }
   ],
   "source": [
    "class A:\n",
    "    static_variable1=10 # Here we have created static variable\n",
    "    static_variable2=100 # THis is one way of creating a static variable\n",
    "    \n",
    "    def sample_method(self): # This is our First instance method\n",
    "        print(\"Sample method\")\n",
    "        \n",
    "    def method1(self): # This is our second instance method\n",
    "        return self.static_variable1,A.static_variable2\n",
    "       \n",
    "        \n",
    "        \n",
    "# Another way of creating a static variable\n",
    "# classname.variable=value\n",
    "\n",
    "A.static_variable3=15\n",
    "\n",
    "# Creating object for class A\n",
    "obj=A()\n",
    "\n",
    "# Updating the static_variable2 to 80\n",
    "A.static_variable2=80\n",
    "\n",
    "# Accessing the method1 using object\n",
    "obj.method1()\n",
    "\n"
   ]
  },
  {
   "cell_type": "code",
   "execution_count": null,
   "id": "5ce16b66",
   "metadata": {},
   "outputs": [],
   "source": []
  },
  {
   "cell_type": "markdown",
   "id": "16d8d298",
   "metadata": {},
   "source": [
    "# Instance variable::\n",
    "### when a variable is created for object then it is called instance variable"
   ]
  },
  {
   "cell_type": "code",
   "execution_count": 12,
   "id": "d4b99a3a",
   "metadata": {},
   "outputs": [
    {
     "name": "stdout",
     "output_type": "stream",
     "text": [
      "10 20\n"
     ]
    }
   ],
   "source": [
    "class A:\n",
    "    def __init__(self,a,b):\n",
    "        self.InstanceVariable1=a\n",
    "        self.InstanceVariable2=b\n",
    "        \n",
    "# Creating an object for CLASS-A\n",
    "obj=A(10,20)\n",
    "print(obj.InstanceVariable1,obj.InstanceVariable2)"
   ]
  },
  {
   "cell_type": "code",
   "execution_count": 14,
   "id": "7bc790ae",
   "metadata": {},
   "outputs": [
    {
     "name": "stdout",
     "output_type": "stream",
     "text": [
      "10 20\n",
      "100 120\n"
     ]
    }
   ],
   "source": [
    "class A:\n",
    "    def __init__(self,a,b):\n",
    "        self.InstanceVariable1=a\n",
    "        self.InstanceVariable2=b\n",
    "        \n",
    "# Creating an object for CLASS-A\n",
    "obj=A(10,20)\n",
    "print(obj.InstanceVariable1,obj.InstanceVariable2)\n",
    "\n",
    "# Creating another object for CLASS-A\n",
    "obj2=A(100,120)\n",
    "print(obj2.InstanceVariable1,obj2.InstanceVariable2)"
   ]
  },
  {
   "cell_type": "code",
   "execution_count": 15,
   "id": "ee558f20",
   "metadata": {},
   "outputs": [
    {
     "name": "stdout",
     "output_type": "stream",
     "text": [
      "100 120\n"
     ]
    },
    {
     "ename": "AttributeError",
     "evalue": "'A' object has no attribute 'InstanceVariable3'",
     "output_type": "error",
     "traceback": [
      "\u001b[1;31m---------------------------------------------------------------------------\u001b[0m",
      "\u001b[1;31mAttributeError\u001b[0m                            Traceback (most recent call last)",
      "Input \u001b[1;32mIn [15]\u001b[0m, in \u001b[0;36m<cell line: 14>\u001b[1;34m()\u001b[0m\n\u001b[0;32m     12\u001b[0m obj2\u001b[38;5;241m=\u001b[39mA(\u001b[38;5;241m100\u001b[39m,\u001b[38;5;241m120\u001b[39m)\n\u001b[0;32m     13\u001b[0m \u001b[38;5;28mprint\u001b[39m(obj2\u001b[38;5;241m.\u001b[39mInstanceVariable1,obj2\u001b[38;5;241m.\u001b[39mInstanceVariable2)\n\u001b[1;32m---> 14\u001b[0m \u001b[38;5;28mprint\u001b[39m(\u001b[43mobj2\u001b[49m\u001b[38;5;241;43m.\u001b[39;49m\u001b[43mInstanceVariable3\u001b[49m,obj2\u001b[38;5;241m.\u001b[39mInstanceVariable4)\n",
      "\u001b[1;31mAttributeError\u001b[0m: 'A' object has no attribute 'InstanceVariable3'"
     ]
    }
   ],
   "source": [
    "class A:\n",
    "    def __init__(self,a,b):\n",
    "        self.InstanceVariable1=a\n",
    "        self.InstanceVariable2=b\n",
    "        \n",
    "# Creating an object for CLASS-A\n",
    "obj=A(10,20)\n",
    "obj.InstanceVariable3=30\n",
    "obj.InstanceVariable4=50\n",
    "\n",
    "# Creating another object for CLASS-A\n",
    "obj2=A(100,120)\n",
    "print(obj2.InstanceVariable1,obj2.InstanceVariable2)\n",
    "print(obj2.InstanceVariable3,obj2.InstanceVariable4) \n"
   ]
  },
  {
   "cell_type": "markdown",
   "id": "d64d2681",
   "metadata": {},
   "source": [
    "### Reason for error:: InstanceVariable3 & InstanceVariable4 are created for object \"obj\" not for \"obj2\".......u r rying to access in wrong way"
   ]
  },
  {
   "cell_type": "code",
   "execution_count": 16,
   "id": "f6599d0c",
   "metadata": {},
   "outputs": [
    {
     "name": "stdout",
     "output_type": "stream",
     "text": [
      "100 120\n",
      "30 50\n"
     ]
    }
   ],
   "source": [
    "# Resolve the error\n",
    "\n",
    "class A:\n",
    "    def __init__(self,a,b):\n",
    "        self.InstanceVariable1=a\n",
    "        self.InstanceVariable2=b\n",
    "        \n",
    "# Creating an object for CLASS-A\n",
    "obj=A(10,20)\n",
    "obj.InstanceVariable3=30\n",
    "obj.InstanceVariable4=50\n",
    "\n",
    "# Creating another object for CLASS-A\n",
    "obj2=A(100,120)\n",
    "print(obj2.InstanceVariable1,obj2.InstanceVariable2)\n",
    "print(obj.InstanceVariable3,obj.InstanceVariable4) \n"
   ]
  },
  {
   "cell_type": "markdown",
   "id": "7becd491",
   "metadata": {},
   "source": [
    "## How to update a instance variable::\n",
    "\n",
    "### 1. obj.variable=value"
   ]
  },
  {
   "cell_type": "code",
   "execution_count": 17,
   "id": "0838b83c",
   "metadata": {},
   "outputs": [
    {
     "name": "stdout",
     "output_type": "stream",
     "text": [
      "300 350\n"
     ]
    }
   ],
   "source": [
    "# Resolve the error\n",
    "\n",
    "class A:\n",
    "    def __init__(self,a,b):\n",
    "        self.InstanceVariable1=a\n",
    "        self.InstanceVariable2=b\n",
    "        \n",
    "# Creating an object for CLASS-A\n",
    "obj=A(10,20)\n",
    "obj.InstanceVariable3=30\n",
    "obj.InstanceVariable4=50\n",
    "\n",
    "# Updating the instanceVariable1&2\n",
    "obj.InstanceVariable1=300\n",
    "obj.InstanceVariable2=350\n",
    "\n",
    "# Printing the updated values\n",
    "print(obj.InstanceVariable1,obj.InstanceVariable2)\n"
   ]
  },
  {
   "cell_type": "code",
   "execution_count": 24,
   "id": "ffbee5d7",
   "metadata": {},
   "outputs": [
    {
     "name": "stdout",
     "output_type": "stream",
     "text": [
      "Before updation \n",
      "10\n",
      "20\n",
      "\n",
      "After updation \n",
      "1000\n",
      "2000\n"
     ]
    }
   ],
   "source": [
    "# Same update came be done using functions also\n",
    "\n",
    "# Resolve the error\n",
    "\n",
    "class A:\n",
    "    def __init__(self,a,b):\n",
    "        self.InstanceVariable1=a\n",
    "        self.InstanceVariable2=b\n",
    "        \n",
    "    def updateVariable(self,newValue1,newValue2):\n",
    "        self.InstanceVariable1=newValue1\n",
    "        self.InstanceVariable2=newValue2\n",
    "        \n",
    "# Creating an object for CLASS-A\n",
    "obj=A(10,20)\n",
    "\n",
    "# Printing the insance variable before updation\n",
    "print(\"Before updation \")\n",
    "print(obj.InstanceVariable1)\n",
    "print(obj.InstanceVariable2)\n",
    "print()\n",
    "\n",
    "print(\"After updation \")\n",
    "obj.updateVariable(1000,2000)\n",
    "\n",
    "print(obj.InstanceVariable1)\n",
    "print(obj.InstanceVariable2)"
   ]
  },
  {
   "cell_type": "code",
   "execution_count": null,
   "id": "a44f2b3e",
   "metadata": {},
   "outputs": [],
   "source": []
  },
  {
   "cell_type": "markdown",
   "id": "8f42c97a",
   "metadata": {},
   "source": [
    "# Example::"
   ]
  },
  {
   "cell_type": "code",
   "execution_count": 29,
   "id": "5ee5071d",
   "metadata": {},
   "outputs": [
    {
     "name": "stdout",
     "output_type": "stream",
     "text": [
      "A\n",
      "1\n",
      "Hyd\n",
      "944000234\n",
      "-----\n",
      "B\n",
      "2\n",
      "Vzg\n",
      "9440054356\n",
      "-----\n",
      "C\n",
      "3\n",
      "Bang\n",
      "9440004564\n",
      "-----\n",
      "D\n",
      "4\n",
      "Hubli\n",
      "9440012456\n",
      "-----\n"
     ]
    }
   ],
   "source": [
    "class Student:\n",
    "    SchoolName=\"SRM Univerity\"\n",
    "    \n",
    "    def __init__(self,name,rollNo,address,phoneNo):\n",
    "        self.name=name\n",
    "        self.rollNo=rollNo\n",
    "        self.address=address\n",
    "        self.phoneNo=phoneNo\n",
    "        \n",
    "# Creating 4 student objects\n",
    "s1=Student('A',1,'Hyd',944000234)\n",
    "s2=Student('B',2,'Vzg',9440054356)\n",
    "s3=Student('C',3,'Bang',9440004564)\n",
    "s4=Student('D',4,'Hubli',9440012456)\n",
    "\n",
    "\n",
    "for obj in [s1,s2,s3,s4]:\n",
    "   \n",
    "    print(obj.name)\n",
    "    print(obj.rollNo)\n",
    "    print(obj.address)\n",
    "    print(obj.phoneNo)\n",
    "    print(\"-----\")"
   ]
  },
  {
   "cell_type": "code",
   "execution_count": 30,
   "id": "b1d570e8",
   "metadata": {},
   "outputs": [
    {
     "name": "stdout",
     "output_type": "stream",
     "text": [
      "SRM Univerity\n",
      "A\n",
      "1\n",
      "Hyd\n",
      "944000234\n",
      "-----\n",
      "SRM Univerity\n",
      "B\n",
      "2\n",
      "Vzg\n",
      "9440054356\n",
      "-----\n",
      "SRM Univerity\n",
      "C\n",
      "3\n",
      "Bang\n",
      "9440004564\n",
      "-----\n",
      "SRM Univerity\n",
      "D\n",
      "4\n",
      "Hubli\n",
      "9440012456\n",
      "-----\n"
     ]
    }
   ],
   "source": [
    "class Student:\n",
    "    SchoolName=\"SRM Univerity\"\n",
    "    \n",
    "    def __init__(self,name,rollNo,address,phoneNo):\n",
    "        self.name=name\n",
    "        self.rollNo=rollNo\n",
    "        self.address=address\n",
    "        self.phoneNo=phoneNo\n",
    "        \n",
    "# Creating 4 student objects\n",
    "s1=Student('A',1,'Hyd',944000234)\n",
    "s2=Student('B',2,'Vzg',9440054356)\n",
    "s3=Student('C',3,'Bang',9440004564)\n",
    "s4=Student('D',4,'Hubli',9440012456)\n",
    "\n",
    "\n",
    "for obj in [s1,s2,s3,s4]:\n",
    "    print(obj.SchoolName)\n",
    "    print(obj.name)\n",
    "    print(obj.rollNo)\n",
    "    print(obj.address)\n",
    "    print(obj.phoneNo)\n",
    "    print(\"-----\")"
   ]
  },
  {
   "cell_type": "code",
   "execution_count": 31,
   "id": "8c0e110a",
   "metadata": {},
   "outputs": [
    {
     "name": "stdout",
     "output_type": "stream",
     "text": [
      "MGR University\n",
      "A\n",
      "1\n",
      "Hyd\n",
      "944000234\n",
      "-----\n",
      "MGR University\n",
      "B\n",
      "2\n",
      "Vzg\n",
      "9440054356\n",
      "-----\n",
      "MGR University\n",
      "C\n",
      "3\n",
      "Bang\n",
      "9440004564\n",
      "-----\n",
      "MGR University\n",
      "D\n",
      "4\n",
      "Hubli\n",
      "9440012456\n",
      "-----\n"
     ]
    }
   ],
   "source": [
    "class Student:\n",
    "    SchoolName=\"SRM Univerity\"\n",
    "    \n",
    "    def __init__(self,name,rollNo,address,phoneNo):\n",
    "        self.name=name\n",
    "        self.rollNo=rollNo\n",
    "        self.address=address\n",
    "        self.phoneNo=phoneNo\n",
    "        \n",
    "# Creating 4 student objects\n",
    "s1=Student('A',1,'Hyd',944000234)\n",
    "s2=Student('B',2,'Vzg',9440054356)\n",
    "s3=Student('C',3,'Bang',9440004564)\n",
    "s4=Student('D',4,'Hubli',9440012456)\n",
    "\n",
    "# Updating the variable ie,SchoolName\n",
    "Student.SchoolName=\"MGR University\"\n",
    "\n",
    "for obj in [s1,s2,s3,s4]:\n",
    "    print(obj.SchoolName)\n",
    "    print(obj.name)\n",
    "    print(obj.rollNo)\n",
    "    print(obj.address)\n",
    "    print(obj.phoneNo)\n",
    "    print(\"-----\")"
   ]
  },
  {
   "cell_type": "markdown",
   "id": "13c1ac71",
   "metadata": {},
   "source": [
    "# Now give SchoolName as instance variable"
   ]
  },
  {
   "cell_type": "code",
   "execution_count": 33,
   "id": "026457fd",
   "metadata": {},
   "outputs": [
    {
     "name": "stdout",
     "output_type": "stream",
     "text": [
      "ABC\n",
      "A\n",
      "1\n",
      "Hyd\n",
      "944000234\n",
      "ABC\n",
      "-----\n",
      "DEF\n",
      "B\n",
      "2\n",
      "Vzg\n",
      "9440054356\n",
      "DEF\n",
      "-----\n",
      "GHJ\n",
      "C\n",
      "3\n",
      "Bang\n",
      "9440004564\n",
      "GHJ\n",
      "-----\n",
      "KLM\n",
      "D\n",
      "4\n",
      "Hubli\n",
      "9440012456\n",
      "KLM\n",
      "-----\n"
     ]
    }
   ],
   "source": [
    "class Student:\n",
    "    \n",
    "    \n",
    "    def __init__(self,name,rollNo,address,phoneNo,SchoolName):\n",
    "        self.name=name\n",
    "        self.rollNo=rollNo\n",
    "        self.address=address\n",
    "        self.phoneNo=phoneNo\n",
    "        self.SchoolName=SchoolName\n",
    "        \n",
    "# Creating 4 student objects\n",
    "s1=Student('A',1,'Hyd',944000234,'ABC')\n",
    "s2=Student('B',2,'Vzg',9440054356,'DEF')\n",
    "s3=Student('C',3,'Bang',9440004564,'GHJ')\n",
    "s4=Student('D',4,'Hubli',9440012456,'KLM')\n",
    "\n",
    "\n",
    "\n",
    "for obj in [s1,s2,s3,s4]:\n",
    "    print(obj.SchoolName)\n",
    "    print(obj.name)\n",
    "    print(obj.rollNo)\n",
    "    print(obj.address)\n",
    "    print(obj.phoneNo)\n",
    "    print(obj.SchoolName)\n",
    "    print(\"-----\")"
   ]
  },
  {
   "cell_type": "code",
   "execution_count": 36,
   "id": "ce392a9e",
   "metadata": {},
   "outputs": [
    {
     "name": "stdout",
     "output_type": "stream",
     "text": [
      "XYZ\n",
      "A\n",
      "1\n",
      "Hyd\n",
      "944000234\n",
      "-----\n",
      "XYZ\n",
      "B\n",
      "2\n",
      "Vzg\n",
      "9440054356\n",
      "-----\n",
      "XYZ\n",
      "C\n",
      "3\n",
      "Bang\n",
      "9440004564\n",
      "-----\n",
      "XYZ\n",
      "D\n",
      "4\n",
      "Hubli\n",
      "9440012456\n",
      "-----\n"
     ]
    }
   ],
   "source": [
    "class Student:\n",
    "    \n",
    "    \n",
    "    def __init__(self,name,rollNo,address,phoneNo):\n",
    "        self.name=name\n",
    "        self.rollNo=rollNo\n",
    "        self.address=address\n",
    "        self.phoneNo=phoneNo\n",
    "        self.SchoolName='XYZ' # Using XYZ as default value for the SchoolName\n",
    "        \n",
    "# Creating 4 student objects\n",
    "s1=Student('A',1,'Hyd',944000234)\n",
    "s2=Student('B',2,'Vzg',9440054356)\n",
    "s3=Student('C',3,'Bang',9440004564)\n",
    "s4=Student('D',4,'Hubli',9440012456)\n",
    "\n",
    "\n",
    "\n",
    "for obj in [s1,s2,s3,s4]:\n",
    "    print(obj.SchoolName)\n",
    "    print(obj.name)\n",
    "    print(obj.rollNo)\n",
    "    print(obj.address)\n",
    "    print(obj.phoneNo)\n",
    "    print(\"-----\")"
   ]
  },
  {
   "cell_type": "markdown",
   "id": "3b70343c",
   "metadata": {},
   "source": [
    "# Suppose i need to update schoolname for all students......here in case of instance variable the updation process is lengthy.....Hence it is advisable to use class variable or static variable\n",
    "\n",
    "### *** IN class variable updation is easy"
   ]
  },
  {
   "cell_type": "markdown",
   "id": "e8a6e2f4",
   "metadata": {},
   "source": []
  },
  {
   "cell_type": "markdown",
   "id": "0148d8a6",
   "metadata": {},
   "source": [
    "## Attributes of object is instance variable\n",
    "## Attributes of class is class variable / static variable\n"
   ]
  },
  {
   "cell_type": "code",
   "execution_count": null,
   "id": "916e22e7",
   "metadata": {},
   "outputs": [],
   "source": []
  }
 ],
 "metadata": {
  "kernelspec": {
   "display_name": "Python 3 (ipykernel)",
   "language": "python",
   "name": "python3"
  },
  "language_info": {
   "codemirror_mode": {
    "name": "ipython",
    "version": 3
   },
   "file_extension": ".py",
   "mimetype": "text/x-python",
   "name": "python",
   "nbconvert_exporter": "python",
   "pygments_lexer": "ipython3",
   "version": "3.9.12"
  }
 },
 "nbformat": 4,
 "nbformat_minor": 5
}
