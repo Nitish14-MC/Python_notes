{
 "cells": [
  {
   "cell_type": "markdown",
   "id": "7a777e4e",
   "metadata": {},
   "source": [
    "# Data hiding is based on ENCAPSULATION"
   ]
  },
  {
   "cell_type": "code",
   "execution_count": 1,
   "id": "d40245b0",
   "metadata": {},
   "outputs": [],
   "source": [
    "# Data hiding\n",
    "\n",
    "# Declare data in one class and the access to this data is denied for another classes\n",
    "\n",
    "\n",
    "# Hides sensitive data for security purpose"
   ]
  },
  {
   "cell_type": "markdown",
   "id": "737afacc",
   "metadata": {},
   "source": [
    "### In python if we declare data as private member then it is accessible only by that class"
   ]
  },
  {
   "cell_type": "code",
   "execution_count": 2,
   "id": "111faf68",
   "metadata": {},
   "outputs": [
    {
     "name": "stdout",
     "output_type": "stream",
     "text": [
      "1000\n"
     ]
    },
    {
     "ename": "AttributeError",
     "evalue": "'API' object has no attribute '_API__balance'",
     "output_type": "error",
     "traceback": [
      "\u001b[1;31m---------------------------------------------------------------------------\u001b[0m",
      "\u001b[1;31mAttributeError\u001b[0m                            Traceback (most recent call last)",
      "Input \u001b[1;32mIn [2]\u001b[0m, in \u001b[0;36m<cell line: 13>\u001b[1;34m()\u001b[0m\n\u001b[0;32m     11\u001b[0m obj\u001b[38;5;241m=\u001b[39mAPI() \u001b[38;5;66;03m# Creating an object\u001b[39;00m\n\u001b[0;32m     12\u001b[0m \u001b[38;5;28mprint\u001b[39m(obj\u001b[38;5;241m.\u001b[39mgetBalance())\n\u001b[1;32m---> 13\u001b[0m \u001b[38;5;28mprint\u001b[39m(\u001b[43mobj\u001b[49m\u001b[38;5;241;43m.\u001b[39;49m\u001b[43mprintBalance\u001b[49m\u001b[43m(\u001b[49m\u001b[43m)\u001b[49m)\n",
      "Input \u001b[1;32mIn [2]\u001b[0m, in \u001b[0;36mAPI.printBalance\u001b[1;34m(self)\u001b[0m\n\u001b[0;32m      8\u001b[0m \u001b[38;5;28;01mdef\u001b[39;00m \u001b[38;5;21mprintBalance\u001b[39m(\u001b[38;5;28mself\u001b[39m):\n\u001b[1;32m----> 9\u001b[0m     \u001b[38;5;28;01mreturn\u001b[39;00m \u001b[38;5;28;43mself\u001b[39;49m\u001b[38;5;241;43m.\u001b[39;49m\u001b[43m__balance\u001b[49m\n",
      "\u001b[1;31mAttributeError\u001b[0m: 'API' object has no attribute '_API__balance'"
     ]
    }
   ],
   "source": [
    "class Bank:\n",
    "    __balance=1000 # Private variable\n",
    "    \n",
    "    def getBalance(self):\n",
    "        return self.__balance  # Accessing within the class\n",
    "    \n",
    "class API(Bank):\n",
    "    def printBalance(self):\n",
    "        return self.__balance   # Trying to access the private variable in the derived class\n",
    "    \n",
    "obj=API() # Creating an object\n",
    "print(obj.getBalance()) # Here we are accesing the object using function (ie,getBalance function)\n",
    "print(obj.printBalance())"
   ]
  },
  {
   "cell_type": "markdown",
   "id": "77d37f43",
   "metadata": {},
   "source": [
    "### The reason for the error is that we are trying to access the private variable in the derived class.....which is against the rule\n",
    "\n",
    "## We can only access the private variables within the class only "
   ]
  },
  {
   "cell_type": "code",
   "execution_count": null,
   "id": "52dd7a4d",
   "metadata": {},
   "outputs": [],
   "source": []
  },
  {
   "cell_type": "code",
   "execution_count": 3,
   "id": "1e026fb0",
   "metadata": {},
   "outputs": [
    {
     "ename": "AttributeError",
     "evalue": "'API' object has no attribute '__balance'",
     "output_type": "error",
     "traceback": [
      "\u001b[1;31m---------------------------------------------------------------------------\u001b[0m",
      "\u001b[1;31mAttributeError\u001b[0m                            Traceback (most recent call last)",
      "Input \u001b[1;32mIn [3]\u001b[0m, in \u001b[0;36m<cell line: 13>\u001b[1;34m()\u001b[0m\n\u001b[0;32m     11\u001b[0m obj\u001b[38;5;241m=\u001b[39mAPI() \u001b[38;5;66;03m# Creating an object for API class \u001b[39;00m\n\u001b[0;32m     12\u001b[0m obj2\u001b[38;5;241m=\u001b[39mBank() \u001b[38;5;66;03m# Creating an object for BANK class\u001b[39;00m\n\u001b[1;32m---> 13\u001b[0m \u001b[38;5;28mprint\u001b[39m(\u001b[43mobj\u001b[49m\u001b[38;5;241;43m.\u001b[39;49m\u001b[43m__balance\u001b[49m)\n\u001b[0;32m     14\u001b[0m \u001b[38;5;28mprint\u001b[39m(obj2\u001b[38;5;241m.\u001b[39m__balance)\n",
      "\u001b[1;31mAttributeError\u001b[0m: 'API' object has no attribute '__balance'"
     ]
    }
   ],
   "source": [
    "class Bank:\n",
    "    __balance=1000 # Private variable\n",
    "    \n",
    "    def getBalance(self):\n",
    "        return self.__balance  # Accessing within the class\n",
    "    \n",
    "class API(Bank):\n",
    "    def printBalance(self):\n",
    "        return self.__balance   # Trying to access the private variable in the derived class\n",
    "    \n",
    "obj=API() # Creating an object for API class \n",
    "obj2=Bank() # Creating an object for BANK class\n",
    "print(obj.__balance)\n",
    "print(obj2.__balance)"
   ]
  },
  {
   "cell_type": "markdown",
   "id": "97ed4b0a",
   "metadata": {},
   "source": [
    "# Reason for error:: Here we are trying to access the private member through object without function\n",
    "\n",
    "# We should only access through the functions"
   ]
  },
  {
   "cell_type": "code",
   "execution_count": null,
   "id": "705ec69e",
   "metadata": {},
   "outputs": [],
   "source": []
  }
 ],
 "metadata": {
  "kernelspec": {
   "display_name": "Python 3 (ipykernel)",
   "language": "python",
   "name": "python3"
  },
  "language_info": {
   "codemirror_mode": {
    "name": "ipython",
    "version": 3
   },
   "file_extension": ".py",
   "mimetype": "text/x-python",
   "name": "python",
   "nbconvert_exporter": "python",
   "pygments_lexer": "ipython3",
   "version": "3.9.12"
  }
 },
 "nbformat": 4,
 "nbformat_minor": 5
}
