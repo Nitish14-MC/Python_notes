{
 "cells": [
  {
   "cell_type": "markdown",
   "id": "bf68848e",
   "metadata": {},
   "source": [
    "# Data Abstraction::"
   ]
  },
  {
   "cell_type": "markdown",
   "id": "92082388",
   "metadata": {},
   "source": [
    "### Data Abstraction is the process of hiding the real implementation of an application from the user and emphasizing only on usage of it"
   ]
  },
  {
   "cell_type": "markdown",
   "id": "39f231f4",
   "metadata": {},
   "source": [
    "#### Abstraction focuses on hiding the internal implementation of a process or method from the user"
   ]
  },
  {
   "attachments": {
    "Money_withdrwl.jpg": {
     "image/jpeg": "[encoded data removed]"
    }
   },
   "cell_type": "markdown",
   "id": "b78a299f",
   "metadata": {},
   "source": [
    "# Example: ATM Machine\n",
    "\n",
    "![Money_withdrwl.jpg](attachment:Money_withdrwl.jpg)\n",
    "\n",
    "Whenever we go to ATM for withdrawl, we select options and get the amount....but we will never know the internal implementaion of the ATM"
   ]
  },
  {
   "cell_type": "markdown",
   "id": "8719c041",
   "metadata": {},
   "source": [
    "# Therefore we can say \"Abstraction\" as a process of \"Hiding the internal functionality\""
   ]
  },
  {
   "cell_type": "code",
   "execution_count": null,
   "id": "1a9220a3",
   "metadata": {},
   "outputs": [],
   "source": []
  },
  {
   "cell_type": "markdown",
   "id": "039ffd80",
   "metadata": {},
   "source": [
    "# We use \"Abstract classes\" for implementing ABSTRACTION\n",
    "\n",
    "\n",
    "\n",
    "* Abstract class: \n",
    "\n",
    "\n",
    "\n",
    "\n",
    "----> If a class contain one or more ABSTRACT METHODS then the class is called ABSTRACT CLASS\n",
    "\n",
    "\n",
    "* Then, What is ABSTRACT METHOD ?\n",
    "\n",
    "\n",
    "\n",
    "\n",
    "----> If the method is declared without implementation, then it is called abstract method"
   ]
  },
  {
   "cell_type": "code",
   "execution_count": 1,
   "id": "4b24c734",
   "metadata": {},
   "outputs": [],
   "source": [
    "# small example for ABSTRACT METHOD\n",
    "\n",
    "class A:\n",
    "    def method():\n",
    "        pass\n",
    "# Note: In the above we have declared a method without any implementation\n",
    "# Therefore, It is called Abstract method ( A method declared without implementation)\n",
    "\n",
    "\n",
    "# If we have more than one abstract method, then it is called ABSTRACT CLASS"
   ]
  },
  {
   "cell_type": "markdown",
   "id": "861bc60b",
   "metadata": {},
   "source": [
    "# Note: We cannot instantiate abstract classes......ie, we cannot create objects for abstract class"
   ]
  },
  {
   "cell_type": "markdown",
   "id": "6aaedccd",
   "metadata": {},
   "source": [
    "### Syntax:\n",
    "  from abc import ABC\n",
    "  \n",
    "  \n",
    "  Class ClassName(ABC):"
   ]
  },
  {
   "cell_type": "markdown",
   "id": "8d2b903c",
   "metadata": {},
   "source": [
    "### We create Abstract classes using ABC module"
   ]
  },
  {
   "cell_type": "code",
   "execution_count": 2,
   "id": "05d428e8",
   "metadata": {},
   "outputs": [
    {
     "ename": "TypeError",
     "evalue": "Can't instantiate abstract class A with abstract method method",
     "output_type": "error",
     "traceback": [
      "\u001b[1;31m---------------------------------------------------------------------------\u001b[0m",
      "\u001b[1;31mTypeError\u001b[0m                                 Traceback (most recent call last)",
      "Input \u001b[1;32mIn [2]\u001b[0m, in \u001b[0;36m<cell line: 7>\u001b[1;34m()\u001b[0m\n\u001b[0;32m      3\u001b[0m     \u001b[38;5;129m@abstractmethod\u001b[39m\n\u001b[0;32m      4\u001b[0m     \u001b[38;5;28;01mdef\u001b[39;00m \u001b[38;5;21mmethod\u001b[39m(\u001b[38;5;28mself\u001b[39m):\n\u001b[0;32m      5\u001b[0m         \u001b[38;5;28;01mpass\u001b[39;00m\n\u001b[1;32m----> 7\u001b[0m obj1\u001b[38;5;241m=\u001b[39m\u001b[43mA\u001b[49m\u001b[43m(\u001b[49m\u001b[43m)\u001b[49m \u001b[38;5;66;03m# Here we are creating an OBJECT for ABSTRACT CLASS\u001b[39;00m\n\u001b[0;32m      8\u001b[0m obj1\u001b[38;5;241m.\u001b[39mmethod()\n",
      "\u001b[1;31mTypeError\u001b[0m: Can't instantiate abstract class A with abstract method method"
     ]
    }
   ],
   "source": [
    "from abc import ABC, abstractmethod\n",
    "class A(ABC): # This is ABSTRACT CLASS because we are deriving from ABC (ie,Abstract Base Class)\n",
    "    @abstractmethod\n",
    "    def method(self):\n",
    "        pass\n",
    "    \n",
    "obj1=A() # Here we are creating an OBJECT for ABSTRACT CLASS\n",
    "obj1.method()"
   ]
  },
  {
   "cell_type": "markdown",
   "id": "818c0d15",
   "metadata": {},
   "source": [
    "# Remeber: We cannot create an object for the ABSTRACT CLASS"
   ]
  },
  {
   "cell_type": "code",
   "execution_count": null,
   "id": "c5eda122",
   "metadata": {},
   "outputs": [],
   "source": []
  },
  {
   "cell_type": "markdown",
   "id": "45e2411b",
   "metadata": {},
   "source": [
    "# Now It's time to learn CONCRETE METHOD\n",
    "\n",
    "## What is Concrete Method ?\n",
    "\n",
    "* A Normal method in abstract class is called Concrete method\n",
    "\n",
    "\n"
   ]
  },
  {
   "cell_type": "code",
   "execution_count": null,
   "id": "e78b90b8",
   "metadata": {},
   "outputs": [],
   "source": [
    "from abc import ABC, abstractmethod\n",
    "class A(ABC): # This is ABSTRACT CLASS because we are deriving from ABC (ie,Abstract Base Class)\n",
    "    @abstractmethod # This is abstract method Decorator\n",
    "    def method1(self):\n",
    "        pass\n",
    "    \n",
    "    def method2(self): # This is a normal method in Abstract class----> It is called as Concrete class\n",
    "        print(\"This is a concrete method\")\n",
    "    \n",
    "obj1=A() # Here we are creating an OBJECT for ABSTRACT CLASS\n",
    "obj1.method()"
   ]
  },
  {
   "cell_type": "markdown",
   "id": "be02b92b",
   "metadata": {},
   "source": [
    "# Note: We cannot directly create object for \"Abstract class\" but we can inherit abstract class & Then, we can create object"
   ]
  },
  {
   "cell_type": "markdown",
   "id": "fd8428bf",
   "metadata": {},
   "source": [
    "# Rules for inheriting Abstract class::\n",
    "\n",
    "### 1. Abstract methods in abstract class must implement in subclass"
   ]
  },
  {
   "cell_type": "code",
   "execution_count": 4,
   "id": "047043ae",
   "metadata": {},
   "outputs": [
    {
     "name": "stdout",
     "output_type": "stream",
     "text": [
      "Method1 is implemented in subclass\n",
      "This is a concrete method\n",
      "Method3 is implemented in subclass\n"
     ]
    }
   ],
   "source": [
    "from abc import ABC, abstractmethod\n",
    "class A(ABC): # This is ABSTRACT CLASS because we are deriving from ABC (ie,Abstract Base Class)\n",
    "    @abstractmethod # This is abstract method Decorator\n",
    "    def method1(self):\n",
    "        pass\n",
    "    \n",
    "    def method2(self): # This is a normal method in Abstract class----> It is called as Concrete class\n",
    "        print(\"This is a concrete method\")\n",
    "    \n",
    "    \n",
    "    @abstractmethod\n",
    "    def method3(self):\n",
    "        pass\n",
    "    \n",
    "class B(A): # This is subclass\n",
    "    def method1(self):\n",
    "        print(\"Method1 is implemented in subclass\")\n",
    "        \n",
    "    def method3(self):\n",
    "        print(\"Method3 is implemented in subclass\")\n",
    "        \n",
    "        \n",
    "obj1=B() \n",
    "obj1.method1()\n",
    "obj1.method2()\n",
    "obj1.method3()"
   ]
  },
  {
   "cell_type": "markdown",
   "id": "bf9942b3",
   "metadata": {},
   "source": [
    "# Very important note::\n",
    "\n",
    "## Whenever ur inheriting abstract class....in subclass u must implement all the methods which are available in the abstract classs.......or else it will raise an error"
   ]
  },
  {
   "cell_type": "code",
   "execution_count": 5,
   "id": "eb4d84f1",
   "metadata": {},
   "outputs": [
    {
     "ename": "TypeError",
     "evalue": "Can't instantiate abstract class B with abstract method method4",
     "output_type": "error",
     "traceback": [
      "\u001b[1;31m---------------------------------------------------------------------------\u001b[0m",
      "\u001b[1;31mTypeError\u001b[0m                                 Traceback (most recent call last)",
      "Input \u001b[1;32mIn [5]\u001b[0m, in \u001b[0;36m<cell line: 31>\u001b[1;34m()\u001b[0m\n\u001b[0;32m     27\u001b[0m     \u001b[38;5;28;01mdef\u001b[39;00m \u001b[38;5;21mmethod3\u001b[39m(\u001b[38;5;28mself\u001b[39m):\n\u001b[0;32m     28\u001b[0m         \u001b[38;5;28mprint\u001b[39m(\u001b[38;5;124m\"\u001b[39m\u001b[38;5;124mMethod3 is implemented in subclass\u001b[39m\u001b[38;5;124m\"\u001b[39m)\n\u001b[1;32m---> 31\u001b[0m obj1\u001b[38;5;241m=\u001b[39m\u001b[43mB\u001b[49m\u001b[43m(\u001b[49m\u001b[43m)\u001b[49m \n\u001b[0;32m     32\u001b[0m obj1\u001b[38;5;241m.\u001b[39mmethod1()\n\u001b[0;32m     33\u001b[0m obj1\u001b[38;5;241m.\u001b[39mmethod2()\n",
      "\u001b[1;31mTypeError\u001b[0m: Can't instantiate abstract class B with abstract method method4"
     ]
    }
   ],
   "source": [
    "# Lets try with example: \n",
    "# Here we have 3 abstract methods but only 2 methods were implemented in the inherited class(SUB CLASS)---->Which will raise error\n",
    "\n",
    "from abc import ABC, abstractmethod\n",
    "class A(ABC): # This is ABSTRACT CLASS because we are deriving from ABC (ie,Abstract Base Class)\n",
    "    @abstractmethod # This is abstract method Decorator\n",
    "    def method1(self):\n",
    "        pass\n",
    "    \n",
    "    def method2(self): # This is a normal method in Abstract class----> It is called as Concrete class\n",
    "        print(\"This is a concrete method\")\n",
    "    \n",
    "    \n",
    "    @abstractmethod\n",
    "    def method3(self):\n",
    "        pass\n",
    "    \n",
    "    @abstractmethod\n",
    "    def method4(self):\n",
    "        pass\n",
    "    \n",
    "    \n",
    "class B(A): # This is subclass\n",
    "    def method1(self):\n",
    "        print(\"Method1 is implemented in subclass\")\n",
    "        \n",
    "    def method3(self):\n",
    "        print(\"Method3 is implemented in subclass\")\n",
    "        \n",
    "        \n",
    "obj1=B() \n",
    "obj1.method1()\n",
    "obj1.method2()\n",
    "obj1.method3()"
   ]
  },
  {
   "cell_type": "markdown",
   "id": "34ace536",
   "metadata": {},
   "source": [
    "## Reason for above error:\n",
    "\n",
    "* You did'nt implement method4 in the inherited class"
   ]
  },
  {
   "cell_type": "markdown",
   "id": "b7d0288b",
   "metadata": {},
   "source": [
    "### Resolving the error"
   ]
  },
  {
   "cell_type": "code",
   "execution_count": 6,
   "id": "63a58f5f",
   "metadata": {},
   "outputs": [
    {
     "name": "stdout",
     "output_type": "stream",
     "text": [
      "Method1 is implemented in subclass\n",
      "This is a concrete method\n",
      "Method3 is implemented in subclass\n",
      "Mehtod4 is implemented in the subclass\n"
     ]
    }
   ],
   "source": [
    "# Lets try with example: \n",
    "# Here we have 3 abstract methods but only 2 methods were implemented in the inherited class(SUB CLASS)---->Which will raise error\n",
    "\n",
    "from abc import ABC, abstractmethod\n",
    "class A(ABC): # This is ABSTRACT CLASS because we are deriving from ABC (ie,Abstract Base Class)\n",
    "    @abstractmethod # This is abstract method Decorator\n",
    "    def method1(self):\n",
    "        pass\n",
    "    \n",
    "    def method2(self): # This is a normal method in Abstract class----> It is called as Concrete class\n",
    "        print(\"This is a concrete method\")\n",
    "    \n",
    "    \n",
    "    @abstractmethod\n",
    "    def method3(self):\n",
    "        pass\n",
    "    \n",
    "    @abstractmethod\n",
    "    def method4(self):\n",
    "        pass\n",
    "    \n",
    "    \n",
    "class B(A): # This is subclass\n",
    "    def method1(self):\n",
    "        print(\"Method1 is implemented in subclass\")\n",
    "        \n",
    "    def method3(self):\n",
    "        print(\"Method3 is implemented in subclass\")\n",
    "        \n",
    "    def method4(self):\n",
    "        print(\"Mehtod4 is implemented in the subclass\")\n",
    "        \n",
    "        \n",
    "obj1=B() \n",
    "obj1.method1()\n",
    "obj1.method2()\n",
    "obj1.method3()\n",
    "obj1.method4()"
   ]
  },
  {
   "cell_type": "markdown",
   "id": "15f50e9e",
   "metadata": {},
   "source": [
    "# Hence, all the abstract methods whichever available in Abstract class must be implemented in the INHERITED CLASS"
   ]
  },
  {
   "cell_type": "code",
   "execution_count": null,
   "id": "912e3b09",
   "metadata": {},
   "outputs": [],
   "source": []
  },
  {
   "cell_type": "markdown",
   "id": "9aa34271",
   "metadata": {},
   "source": [
    "# Why do we need to create an ABSTRACT CLASS\n",
    "\n",
    "## 1.Abstract classes used as blueprint for another class\n"
   ]
  },
  {
   "cell_type": "markdown",
   "id": "7465c68b",
   "metadata": {},
   "source": [
    "### Why Abstract classes used as blueprint ???\n",
    "\n",
    "*  If a project has lot of classes & functions then developers create abstract class & use the classes by inheriting"
   ]
  }
 ],
 "metadata": {
  "kernelspec": {
   "display_name": "Python 3 (ipykernel)",
   "language": "python",
   "name": "python3"
  },
  "language_info": {
   "codemirror_mode": {
    "name": "ipython",
    "version": 3
   },
   "file_extension": ".py",
   "mimetype": "text/x-python",
   "name": "python",
   "nbconvert_exporter": "python",
   "pygments_lexer": "ipython3",
   "version": "3.9.12"
  }
 },
 "nbformat": 4,
 "nbformat_minor": 5
}
